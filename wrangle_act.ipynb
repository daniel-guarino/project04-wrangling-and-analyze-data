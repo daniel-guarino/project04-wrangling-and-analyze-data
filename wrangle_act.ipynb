{
 "cells": [
  {
   "cell_type": "markdown",
   "metadata": {},
   "source": [
    "## Wrangle and Analyze Data\n",
    "\n",
    "In this project a dataset from Twitter profile WeRateDogs will be wrangled (gather, assess and clean). All the efforts for this task are going to be reported in this notebook. \n",
    "\n",
    "### Name: Daniel Guarino\n",
    "\n",
    "## Table of Contents\n",
    "\n",
    "- [Basic Libraries](#libraries)\n",
    "- [Part I - Gathering Data](#gathering)\n",
    "- [Part II - Assessing Data](#assess)\n",
    "- [Part III - Cleaning Data](#regression)\n"
   ]
  },
  {
   "cell_type": "markdown",
   "metadata": {},
   "source": [
    "<a id='libraries'></a>\n",
    "### Import Basic Libraries"
   ]
  },
  {
   "cell_type": "code",
   "execution_count": 1,
   "metadata": {},
   "outputs": [],
   "source": [
    "import pandas as pd\n",
    "import numpy as np\n",
    "import matplotlib.pyplot as plt\n",
    "import seaborn as sns\n",
    "%matplotlib inline"
   ]
  },
  {
   "cell_type": "markdown",
   "metadata": {},
   "source": [
    "<a id='gathering'></a>\n",
    "### Part I - Gathering Data"
   ]
  },
  {
   "cell_type": "markdown",
   "metadata": {},
   "source": [
    "**Reading CSV file (manually downloaded from 'Resources' folder on Udacity - Wrangle and Analyze Data web page)**"
   ]
  },
  {
   "cell_type": "code",
   "execution_count": 2,
   "metadata": {},
   "outputs": [],
   "source": [
    "df = pd.read_csv('twitter_archive/twitter-archive-enhanced.csv')"
   ]
  },
  {
   "cell_type": "code",
   "execution_count": 3,
   "metadata": {},
   "outputs": [
    {
     "data": {
      "text/html": [
       "<div>\n",
       "<style scoped>\n",
       "    .dataframe tbody tr th:only-of-type {\n",
       "        vertical-align: middle;\n",
       "    }\n",
       "\n",
       "    .dataframe tbody tr th {\n",
       "        vertical-align: top;\n",
       "    }\n",
       "\n",
       "    .dataframe thead th {\n",
       "        text-align: right;\n",
       "    }\n",
       "</style>\n",
       "<table border=\"1\" class=\"dataframe\">\n",
       "  <thead>\n",
       "    <tr style=\"text-align: right;\">\n",
       "      <th></th>\n",
       "      <th>tweet_id</th>\n",
       "      <th>in_reply_to_status_id</th>\n",
       "      <th>in_reply_to_user_id</th>\n",
       "      <th>timestamp</th>\n",
       "      <th>source</th>\n",
       "      <th>text</th>\n",
       "      <th>retweeted_status_id</th>\n",
       "      <th>retweeted_status_user_id</th>\n",
       "      <th>retweeted_status_timestamp</th>\n",
       "      <th>expanded_urls</th>\n",
       "      <th>rating_numerator</th>\n",
       "      <th>rating_denominator</th>\n",
       "      <th>name</th>\n",
       "      <th>doggo</th>\n",
       "      <th>floofer</th>\n",
       "      <th>pupper</th>\n",
       "      <th>puppo</th>\n",
       "    </tr>\n",
       "  </thead>\n",
       "  <tbody>\n",
       "    <tr>\n",
       "      <th>0</th>\n",
       "      <td>892420643555336193</td>\n",
       "      <td>NaN</td>\n",
       "      <td>NaN</td>\n",
       "      <td>2017-08-01 16:23:56 +0000</td>\n",
       "      <td>&lt;a href=\"http://twitter.com/download/iphone\" r...</td>\n",
       "      <td>This is Phineas. He's a mystical boy. Only eve...</td>\n",
       "      <td>NaN</td>\n",
       "      <td>NaN</td>\n",
       "      <td>NaN</td>\n",
       "      <td>https://twitter.com/dog_rates/status/892420643...</td>\n",
       "      <td>13</td>\n",
       "      <td>10</td>\n",
       "      <td>Phineas</td>\n",
       "      <td>None</td>\n",
       "      <td>None</td>\n",
       "      <td>None</td>\n",
       "      <td>None</td>\n",
       "    </tr>\n",
       "    <tr>\n",
       "      <th>1</th>\n",
       "      <td>892177421306343426</td>\n",
       "      <td>NaN</td>\n",
       "      <td>NaN</td>\n",
       "      <td>2017-08-01 00:17:27 +0000</td>\n",
       "      <td>&lt;a href=\"http://twitter.com/download/iphone\" r...</td>\n",
       "      <td>This is Tilly. She's just checking pup on you....</td>\n",
       "      <td>NaN</td>\n",
       "      <td>NaN</td>\n",
       "      <td>NaN</td>\n",
       "      <td>https://twitter.com/dog_rates/status/892177421...</td>\n",
       "      <td>13</td>\n",
       "      <td>10</td>\n",
       "      <td>Tilly</td>\n",
       "      <td>None</td>\n",
       "      <td>None</td>\n",
       "      <td>None</td>\n",
       "      <td>None</td>\n",
       "    </tr>\n",
       "    <tr>\n",
       "      <th>2</th>\n",
       "      <td>891815181378084864</td>\n",
       "      <td>NaN</td>\n",
       "      <td>NaN</td>\n",
       "      <td>2017-07-31 00:18:03 +0000</td>\n",
       "      <td>&lt;a href=\"http://twitter.com/download/iphone\" r...</td>\n",
       "      <td>This is Archie. He is a rare Norwegian Pouncin...</td>\n",
       "      <td>NaN</td>\n",
       "      <td>NaN</td>\n",
       "      <td>NaN</td>\n",
       "      <td>https://twitter.com/dog_rates/status/891815181...</td>\n",
       "      <td>12</td>\n",
       "      <td>10</td>\n",
       "      <td>Archie</td>\n",
       "      <td>None</td>\n",
       "      <td>None</td>\n",
       "      <td>None</td>\n",
       "      <td>None</td>\n",
       "    </tr>\n",
       "    <tr>\n",
       "      <th>3</th>\n",
       "      <td>891689557279858688</td>\n",
       "      <td>NaN</td>\n",
       "      <td>NaN</td>\n",
       "      <td>2017-07-30 15:58:51 +0000</td>\n",
       "      <td>&lt;a href=\"http://twitter.com/download/iphone\" r...</td>\n",
       "      <td>This is Darla. She commenced a snooze mid meal...</td>\n",
       "      <td>NaN</td>\n",
       "      <td>NaN</td>\n",
       "      <td>NaN</td>\n",
       "      <td>https://twitter.com/dog_rates/status/891689557...</td>\n",
       "      <td>13</td>\n",
       "      <td>10</td>\n",
       "      <td>Darla</td>\n",
       "      <td>None</td>\n",
       "      <td>None</td>\n",
       "      <td>None</td>\n",
       "      <td>None</td>\n",
       "    </tr>\n",
       "    <tr>\n",
       "      <th>4</th>\n",
       "      <td>891327558926688256</td>\n",
       "      <td>NaN</td>\n",
       "      <td>NaN</td>\n",
       "      <td>2017-07-29 16:00:24 +0000</td>\n",
       "      <td>&lt;a href=\"http://twitter.com/download/iphone\" r...</td>\n",
       "      <td>This is Franklin. He would like you to stop ca...</td>\n",
       "      <td>NaN</td>\n",
       "      <td>NaN</td>\n",
       "      <td>NaN</td>\n",
       "      <td>https://twitter.com/dog_rates/status/891327558...</td>\n",
       "      <td>12</td>\n",
       "      <td>10</td>\n",
       "      <td>Franklin</td>\n",
       "      <td>None</td>\n",
       "      <td>None</td>\n",
       "      <td>None</td>\n",
       "      <td>None</td>\n",
       "    </tr>\n",
       "  </tbody>\n",
       "</table>\n",
       "</div>"
      ],
      "text/plain": [
       "             tweet_id  in_reply_to_status_id  in_reply_to_user_id  \\\n",
       "0  892420643555336193                    NaN                  NaN   \n",
       "1  892177421306343426                    NaN                  NaN   \n",
       "2  891815181378084864                    NaN                  NaN   \n",
       "3  891689557279858688                    NaN                  NaN   \n",
       "4  891327558926688256                    NaN                  NaN   \n",
       "\n",
       "                   timestamp  \\\n",
       "0  2017-08-01 16:23:56 +0000   \n",
       "1  2017-08-01 00:17:27 +0000   \n",
       "2  2017-07-31 00:18:03 +0000   \n",
       "3  2017-07-30 15:58:51 +0000   \n",
       "4  2017-07-29 16:00:24 +0000   \n",
       "\n",
       "                                              source  \\\n",
       "0  <a href=\"http://twitter.com/download/iphone\" r...   \n",
       "1  <a href=\"http://twitter.com/download/iphone\" r...   \n",
       "2  <a href=\"http://twitter.com/download/iphone\" r...   \n",
       "3  <a href=\"http://twitter.com/download/iphone\" r...   \n",
       "4  <a href=\"http://twitter.com/download/iphone\" r...   \n",
       "\n",
       "                                                text  retweeted_status_id  \\\n",
       "0  This is Phineas. He's a mystical boy. Only eve...                  NaN   \n",
       "1  This is Tilly. She's just checking pup on you....                  NaN   \n",
       "2  This is Archie. He is a rare Norwegian Pouncin...                  NaN   \n",
       "3  This is Darla. She commenced a snooze mid meal...                  NaN   \n",
       "4  This is Franklin. He would like you to stop ca...                  NaN   \n",
       "\n",
       "   retweeted_status_user_id retweeted_status_timestamp  \\\n",
       "0                       NaN                        NaN   \n",
       "1                       NaN                        NaN   \n",
       "2                       NaN                        NaN   \n",
       "3                       NaN                        NaN   \n",
       "4                       NaN                        NaN   \n",
       "\n",
       "                                       expanded_urls  rating_numerator  \\\n",
       "0  https://twitter.com/dog_rates/status/892420643...                13   \n",
       "1  https://twitter.com/dog_rates/status/892177421...                13   \n",
       "2  https://twitter.com/dog_rates/status/891815181...                12   \n",
       "3  https://twitter.com/dog_rates/status/891689557...                13   \n",
       "4  https://twitter.com/dog_rates/status/891327558...                12   \n",
       "\n",
       "   rating_denominator      name doggo floofer pupper puppo  \n",
       "0                  10   Phineas  None    None   None  None  \n",
       "1                  10     Tilly  None    None   None  None  \n",
       "2                  10    Archie  None    None   None  None  \n",
       "3                  10     Darla  None    None   None  None  \n",
       "4                  10  Franklin  None    None   None  None  "
      ]
     },
     "execution_count": 3,
     "metadata": {},
     "output_type": "execute_result"
    }
   ],
   "source": [
    "df.head()"
   ]
  },
  {
   "cell_type": "markdown",
   "metadata": {},
   "source": [
    "**Downloading image-predictions.tsv programmatically**"
   ]
  },
  {
   "cell_type": "code",
   "execution_count": 4,
   "metadata": {},
   "outputs": [],
   "source": [
    "import requests\n",
    "import os"
   ]
  },
  {
   "cell_type": "code",
   "execution_count": 5,
   "metadata": {},
   "outputs": [
    {
     "data": {
      "text/plain": [
       "<Response [200]>"
      ]
     },
     "execution_count": 5,
     "metadata": {},
     "output_type": "execute_result"
    }
   ],
   "source": [
    "folder_name = 'twitter_archive'\n",
    "if not os.path.exists(folder_name):\n",
    "    os.makedirs(folder_name)\n",
    "\n",
    "url = 'https://d17h27t6h515a5.cloudfront.net/topher/2017/August/599fd2ad_image-predictions/image-predictions.tsv'\n",
    "response = requests.get(url)\n",
    "response"
   ]
  },
  {
   "cell_type": "code",
   "execution_count": 6,
   "metadata": {},
   "outputs": [],
   "source": [
    "with open(os.path.join(folder_name, \n",
    "                       url.split('/')[-1]), mode = 'wb') as file:\n",
    "    file.write(response.content)"
   ]
  },
  {
   "cell_type": "code",
   "execution_count": 7,
   "metadata": {},
   "outputs": [
    {
     "data": {
      "text/plain": [
       "['twitter-archive-enhanced.csv',\n",
       " 'image-predictions.tsv',\n",
       " 'tweet_json.txt',\n",
       " 'we_rate_dogs.csv',\n",
       " 'tweet_json (copy).txt']"
      ]
     },
     "execution_count": 7,
     "metadata": {},
     "output_type": "execute_result"
    }
   ],
   "source": [
    "os.listdir(folder_name)"
   ]
  },
  {
   "cell_type": "code",
   "execution_count": 8,
   "metadata": {},
   "outputs": [
    {
     "data": {
      "text/html": [
       "<div>\n",
       "<style scoped>\n",
       "    .dataframe tbody tr th:only-of-type {\n",
       "        vertical-align: middle;\n",
       "    }\n",
       "\n",
       "    .dataframe tbody tr th {\n",
       "        vertical-align: top;\n",
       "    }\n",
       "\n",
       "    .dataframe thead th {\n",
       "        text-align: right;\n",
       "    }\n",
       "</style>\n",
       "<table border=\"1\" class=\"dataframe\">\n",
       "  <thead>\n",
       "    <tr style=\"text-align: right;\">\n",
       "      <th></th>\n",
       "      <th>tweet_id</th>\n",
       "      <th>jpg_url</th>\n",
       "      <th>img_num</th>\n",
       "      <th>p1</th>\n",
       "      <th>p1_conf</th>\n",
       "      <th>p1_dog</th>\n",
       "      <th>p2</th>\n",
       "      <th>p2_conf</th>\n",
       "      <th>p2_dog</th>\n",
       "      <th>p3</th>\n",
       "      <th>p3_conf</th>\n",
       "      <th>p3_dog</th>\n",
       "    </tr>\n",
       "  </thead>\n",
       "  <tbody>\n",
       "    <tr>\n",
       "      <th>0</th>\n",
       "      <td>666020888022790149</td>\n",
       "      <td>https://pbs.twimg.com/media/CT4udn0WwAA0aMy.jpg</td>\n",
       "      <td>1</td>\n",
       "      <td>Welsh_springer_spaniel</td>\n",
       "      <td>0.465074</td>\n",
       "      <td>True</td>\n",
       "      <td>collie</td>\n",
       "      <td>0.156665</td>\n",
       "      <td>True</td>\n",
       "      <td>Shetland_sheepdog</td>\n",
       "      <td>0.061428</td>\n",
       "      <td>True</td>\n",
       "    </tr>\n",
       "    <tr>\n",
       "      <th>1</th>\n",
       "      <td>666029285002620928</td>\n",
       "      <td>https://pbs.twimg.com/media/CT42GRgUYAA5iDo.jpg</td>\n",
       "      <td>1</td>\n",
       "      <td>redbone</td>\n",
       "      <td>0.506826</td>\n",
       "      <td>True</td>\n",
       "      <td>miniature_pinscher</td>\n",
       "      <td>0.074192</td>\n",
       "      <td>True</td>\n",
       "      <td>Rhodesian_ridgeback</td>\n",
       "      <td>0.072010</td>\n",
       "      <td>True</td>\n",
       "    </tr>\n",
       "    <tr>\n",
       "      <th>2</th>\n",
       "      <td>666033412701032449</td>\n",
       "      <td>https://pbs.twimg.com/media/CT4521TWwAEvMyu.jpg</td>\n",
       "      <td>1</td>\n",
       "      <td>German_shepherd</td>\n",
       "      <td>0.596461</td>\n",
       "      <td>True</td>\n",
       "      <td>malinois</td>\n",
       "      <td>0.138584</td>\n",
       "      <td>True</td>\n",
       "      <td>bloodhound</td>\n",
       "      <td>0.116197</td>\n",
       "      <td>True</td>\n",
       "    </tr>\n",
       "  </tbody>\n",
       "</table>\n",
       "</div>"
      ],
      "text/plain": [
       "             tweet_id                                          jpg_url  \\\n",
       "0  666020888022790149  https://pbs.twimg.com/media/CT4udn0WwAA0aMy.jpg   \n",
       "1  666029285002620928  https://pbs.twimg.com/media/CT42GRgUYAA5iDo.jpg   \n",
       "2  666033412701032449  https://pbs.twimg.com/media/CT4521TWwAEvMyu.jpg   \n",
       "\n",
       "   img_num                      p1   p1_conf  p1_dog                  p2  \\\n",
       "0        1  Welsh_springer_spaniel  0.465074    True              collie   \n",
       "1        1                 redbone  0.506826    True  miniature_pinscher   \n",
       "2        1         German_shepherd  0.596461    True            malinois   \n",
       "\n",
       "    p2_conf  p2_dog                   p3   p3_conf  p3_dog  \n",
       "0  0.156665    True    Shetland_sheepdog  0.061428    True  \n",
       "1  0.074192    True  Rhodesian_ridgeback  0.072010    True  \n",
       "2  0.138584    True           bloodhound  0.116197    True  "
      ]
     },
     "execution_count": 8,
     "metadata": {},
     "output_type": "execute_result"
    }
   ],
   "source": [
    "df_image = pd.read_csv('twitter_archive/image-predictions.tsv', sep='\\t')\n",
    "df_image.head(3)"
   ]
  },
  {
   "cell_type": "markdown",
   "metadata": {},
   "source": [
    "**Importing and accessing Twitter API (tweep)**"
   ]
  },
  {
   "cell_type": "code",
   "execution_count": 9,
   "metadata": {},
   "outputs": [],
   "source": [
    "import tweepy\n",
    "from tweepy import OAuthHandler\n",
    "import json\n",
    "from timeit import default_timer as timer"
   ]
  },
  {
   "cell_type": "code",
   "execution_count": 10,
   "metadata": {},
   "outputs": [],
   "source": [
    "consumer_key = 'HIDDEN'\n",
    "consumer_secret = 'HIDDEN'\n",
    "access_token = 'HIDDEN'\n",
    "access_secret = 'HIDDEN'\n",
    "\n",
    "auth = OAuthHandler(consumer_key, consumer_secret)\n",
    "auth.set_access_token(access_token, access_secret)\n",
    "\n",
    "api = tweepy.API(auth, wait_on_rate_limit = True)"
   ]
  },
  {
   "cell_type": "code",
   "execution_count": 11,
   "metadata": {},
   "outputs": [],
   "source": [
    "tweet_ids = df.tweet_id.values\n",
    "len(tweet_ids)"
   ]
  },
  {
   "cell_type": "code",
   "execution_count": 12,
   "metadata": {},
   "outputs": [],
   "source": [
    "# Query Twitter's API for JSON data for each tweet ID in the df dataframe\n",
    "count = 0\n",
    "fails_dict = {}\n",
    "start = timer()\n",
    " Save each tweet's returned JSON as a new line in a .txt file\n",
    "with open('twitter_archive/tweet_json.txt', 'w') as outfile:\n",
    "#     This loop will likely take 20-30 minutes to run because of Twitter's rate limit\n",
    "    for tweet_id in tweet_ids:\n",
    "        count += 1\n",
    "        print(str(count) + \": \" + str(tweet_id))\n",
    "        try:\n",
    "            tweet = api.get_status(tweet_id, tweet_mode='extended')\n",
    "            print(\"Success\")\n",
    "            json.dump(tweet._json, outfile)\n",
    "            outfile.write('\\n')\n",
    "        except tweepy.TweepError as e:\n",
    "            print(\"Fail\")\n",
    "            fails_dict[tweet_id] = e\n",
    "            pass\n",
    "end = timer()\n",
    "print(end - start)\n",
    "print(fails_dict)\n",
    "\n",
    "# Cell output hidden to save lines"
   ]
  },
  {
   "cell_type": "code",
   "execution_count": 13,
   "metadata": {},
   "outputs": [],
   "source": [
    "# load json file\n",
    "tweets_list = []\n",
    "\n",
    "with open('twitter_archive/tweet_json.txt', 'r', encoding='utf8') as json_file:\n",
    "    for line in json_file:\n",
    "        tweet_line = json.loads(line)\n",
    "        tweets_list.append({'tweet_id': tweet_line['id'],\n",
    "                        'favorites_count': tweet_line['favorite_count'],\n",
    "                        'retweets_count': tweet_line['retweet_count']})\n",
    "        "
   ]
  },
  {
   "cell_type": "code",
   "execution_count": 14,
   "metadata": {},
   "outputs": [
    {
     "data": {
      "text/html": [
       "<div>\n",
       "<style scoped>\n",
       "    .dataframe tbody tr th:only-of-type {\n",
       "        vertical-align: middle;\n",
       "    }\n",
       "\n",
       "    .dataframe tbody tr th {\n",
       "        vertical-align: top;\n",
       "    }\n",
       "\n",
       "    .dataframe thead th {\n",
       "        text-align: right;\n",
       "    }\n",
       "</style>\n",
       "<table border=\"1\" class=\"dataframe\">\n",
       "  <thead>\n",
       "    <tr style=\"text-align: right;\">\n",
       "      <th></th>\n",
       "      <th>tweet_id</th>\n",
       "      <th>favorites_count</th>\n",
       "      <th>retweets_count</th>\n",
       "    </tr>\n",
       "  </thead>\n",
       "  <tbody>\n",
       "    <tr>\n",
       "      <th>0</th>\n",
       "      <td>892420643555336193</td>\n",
       "      <td>37149</td>\n",
       "      <td>7947</td>\n",
       "    </tr>\n",
       "    <tr>\n",
       "      <th>1</th>\n",
       "      <td>892177421306343426</td>\n",
       "      <td>31957</td>\n",
       "      <td>5902</td>\n",
       "    </tr>\n",
       "    <tr>\n",
       "      <th>2</th>\n",
       "      <td>891815181378084864</td>\n",
       "      <td>24066</td>\n",
       "      <td>3902</td>\n",
       "    </tr>\n",
       "    <tr>\n",
       "      <th>3</th>\n",
       "      <td>891689557279858688</td>\n",
       "      <td>40478</td>\n",
       "      <td>8099</td>\n",
       "    </tr>\n",
       "    <tr>\n",
       "      <th>4</th>\n",
       "      <td>891327558926688256</td>\n",
       "      <td>38706</td>\n",
       "      <td>8785</td>\n",
       "    </tr>\n",
       "  </tbody>\n",
       "</table>\n",
       "</div>"
      ],
      "text/plain": [
       "             tweet_id  favorites_count  retweets_count\n",
       "0  892420643555336193            37149            7947\n",
       "1  892177421306343426            31957            5902\n",
       "2  891815181378084864            24066            3902\n",
       "3  891689557279858688            40478            8099\n",
       "4  891327558926688256            38706            8785"
      ]
     },
     "execution_count": 14,
     "metadata": {},
     "output_type": "execute_result"
    }
   ],
   "source": [
    "# json file to a Pandas dataframe\n",
    "df_api = pd.DataFrame(tweets_list)\n",
    "df_api.head()"
   ]
  },
  {
   "cell_type": "markdown",
   "metadata": {},
   "source": [
    "<a id='assess'></a>\n",
    "### Part II - Assessing Data"
   ]
  },
  {
   "cell_type": "markdown",
   "metadata": {},
   "source": [
    "### 1. Downloaded data by WeRateDogs page data frame info ###"
   ]
  },
  {
   "cell_type": "code",
   "execution_count": 15,
   "metadata": {},
   "outputs": [
    {
     "data": {
      "text/html": [
       "<div>\n",
       "<style scoped>\n",
       "    .dataframe tbody tr th:only-of-type {\n",
       "        vertical-align: middle;\n",
       "    }\n",
       "\n",
       "    .dataframe tbody tr th {\n",
       "        vertical-align: top;\n",
       "    }\n",
       "\n",
       "    .dataframe thead th {\n",
       "        text-align: right;\n",
       "    }\n",
       "</style>\n",
       "<table border=\"1\" class=\"dataframe\">\n",
       "  <thead>\n",
       "    <tr style=\"text-align: right;\">\n",
       "      <th></th>\n",
       "      <th>tweet_id</th>\n",
       "      <th>in_reply_to_status_id</th>\n",
       "      <th>in_reply_to_user_id</th>\n",
       "      <th>timestamp</th>\n",
       "      <th>source</th>\n",
       "      <th>text</th>\n",
       "      <th>retweeted_status_id</th>\n",
       "      <th>retweeted_status_user_id</th>\n",
       "      <th>retweeted_status_timestamp</th>\n",
       "      <th>expanded_urls</th>\n",
       "      <th>rating_numerator</th>\n",
       "      <th>rating_denominator</th>\n",
       "      <th>name</th>\n",
       "      <th>doggo</th>\n",
       "      <th>floofer</th>\n",
       "      <th>pupper</th>\n",
       "      <th>puppo</th>\n",
       "    </tr>\n",
       "  </thead>\n",
       "  <tbody>\n",
       "    <tr>\n",
       "      <th>0</th>\n",
       "      <td>892420643555336193</td>\n",
       "      <td>NaN</td>\n",
       "      <td>NaN</td>\n",
       "      <td>2017-08-01 16:23:56 +0000</td>\n",
       "      <td>&lt;a href=\"http://twitter.com/download/iphone\" r...</td>\n",
       "      <td>This is Phineas. He's a mystical boy. Only eve...</td>\n",
       "      <td>NaN</td>\n",
       "      <td>NaN</td>\n",
       "      <td>NaN</td>\n",
       "      <td>https://twitter.com/dog_rates/status/892420643...</td>\n",
       "      <td>13</td>\n",
       "      <td>10</td>\n",
       "      <td>Phineas</td>\n",
       "      <td>None</td>\n",
       "      <td>None</td>\n",
       "      <td>None</td>\n",
       "      <td>None</td>\n",
       "    </tr>\n",
       "    <tr>\n",
       "      <th>1</th>\n",
       "      <td>892177421306343426</td>\n",
       "      <td>NaN</td>\n",
       "      <td>NaN</td>\n",
       "      <td>2017-08-01 00:17:27 +0000</td>\n",
       "      <td>&lt;a href=\"http://twitter.com/download/iphone\" r...</td>\n",
       "      <td>This is Tilly. She's just checking pup on you....</td>\n",
       "      <td>NaN</td>\n",
       "      <td>NaN</td>\n",
       "      <td>NaN</td>\n",
       "      <td>https://twitter.com/dog_rates/status/892177421...</td>\n",
       "      <td>13</td>\n",
       "      <td>10</td>\n",
       "      <td>Tilly</td>\n",
       "      <td>None</td>\n",
       "      <td>None</td>\n",
       "      <td>None</td>\n",
       "      <td>None</td>\n",
       "    </tr>\n",
       "  </tbody>\n",
       "</table>\n",
       "</div>"
      ],
      "text/plain": [
       "             tweet_id  in_reply_to_status_id  in_reply_to_user_id  \\\n",
       "0  892420643555336193                    NaN                  NaN   \n",
       "1  892177421306343426                    NaN                  NaN   \n",
       "\n",
       "                   timestamp  \\\n",
       "0  2017-08-01 16:23:56 +0000   \n",
       "1  2017-08-01 00:17:27 +0000   \n",
       "\n",
       "                                              source  \\\n",
       "0  <a href=\"http://twitter.com/download/iphone\" r...   \n",
       "1  <a href=\"http://twitter.com/download/iphone\" r...   \n",
       "\n",
       "                                                text  retweeted_status_id  \\\n",
       "0  This is Phineas. He's a mystical boy. Only eve...                  NaN   \n",
       "1  This is Tilly. She's just checking pup on you....                  NaN   \n",
       "\n",
       "   retweeted_status_user_id retweeted_status_timestamp  \\\n",
       "0                       NaN                        NaN   \n",
       "1                       NaN                        NaN   \n",
       "\n",
       "                                       expanded_urls  rating_numerator  \\\n",
       "0  https://twitter.com/dog_rates/status/892420643...                13   \n",
       "1  https://twitter.com/dog_rates/status/892177421...                13   \n",
       "\n",
       "   rating_denominator     name doggo floofer pupper puppo  \n",
       "0                  10  Phineas  None    None   None  None  \n",
       "1                  10    Tilly  None    None   None  None  "
      ]
     },
     "execution_count": 15,
     "metadata": {},
     "output_type": "execute_result"
    }
   ],
   "source": [
    "df.head(2)"
   ]
  },
  {
   "cell_type": "code",
   "execution_count": 16,
   "metadata": {},
   "outputs": [
    {
     "name": "stdout",
     "output_type": "stream",
     "text": [
      "<class 'pandas.core.frame.DataFrame'>\n",
      "RangeIndex: 2356 entries, 0 to 2355\n",
      "Data columns (total 17 columns):\n",
      "tweet_id                      2356 non-null int64\n",
      "in_reply_to_status_id         78 non-null float64\n",
      "in_reply_to_user_id           78 non-null float64\n",
      "timestamp                     2356 non-null object\n",
      "source                        2356 non-null object\n",
      "text                          2356 non-null object\n",
      "retweeted_status_id           181 non-null float64\n",
      "retweeted_status_user_id      181 non-null float64\n",
      "retweeted_status_timestamp    181 non-null object\n",
      "expanded_urls                 2297 non-null object\n",
      "rating_numerator              2356 non-null int64\n",
      "rating_denominator            2356 non-null int64\n",
      "name                          2356 non-null object\n",
      "doggo                         2356 non-null object\n",
      "floofer                       2356 non-null object\n",
      "pupper                        2356 non-null object\n",
      "puppo                         2356 non-null object\n",
      "dtypes: float64(4), int64(3), object(10)\n",
      "memory usage: 313.0+ KB\n"
     ]
    }
   ],
   "source": [
    "df.info()"
   ]
  },
  {
   "cell_type": "code",
   "execution_count": 17,
   "metadata": {},
   "outputs": [
    {
     "data": {
      "text/plain": [
       "tweet_id                        int64\n",
       "in_reply_to_status_id         float64\n",
       "in_reply_to_user_id           float64\n",
       "timestamp                      object\n",
       "source                         object\n",
       "text                           object\n",
       "retweeted_status_id           float64\n",
       "retweeted_status_user_id      float64\n",
       "retweeted_status_timestamp     object\n",
       "expanded_urls                  object\n",
       "rating_numerator                int64\n",
       "rating_denominator              int64\n",
       "name                           object\n",
       "doggo                          object\n",
       "floofer                        object\n",
       "pupper                         object\n",
       "puppo                          object\n",
       "dtype: object"
      ]
     },
     "execution_count": 17,
     "metadata": {},
     "output_type": "execute_result"
    }
   ],
   "source": [
    "df.dtypes"
   ]
  },
  {
   "cell_type": "code",
   "execution_count": 18,
   "metadata": {},
   "outputs": [
    {
     "data": {
      "text/plain": [
       "0"
      ]
     },
     "execution_count": 18,
     "metadata": {},
     "output_type": "execute_result"
    }
   ],
   "source": [
    "# is there any duplicated ID?\n",
    "sum(df['tweet_id'].duplicated())"
   ]
  },
  {
   "cell_type": "code",
   "execution_count": 19,
   "metadata": {},
   "outputs": [
    {
     "data": {
      "text/plain": [
       "440"
      ]
     },
     "execution_count": 19,
     "metadata": {},
     "output_type": "execute_result"
    }
   ],
   "source": [
    "# normally in WeRateDogs they have rating_numerators bigger or equal than 10 (they're good dogs Brent!)\n",
    "# it doesn't happen for 440 records\n",
    "df[df['rating_numerator'] < 10].shape[0]"
   ]
  },
  {
   "cell_type": "code",
   "execution_count": 20,
   "metadata": {},
   "outputs": [
    {
     "data": {
      "text/plain": [
       "23"
      ]
     },
     "execution_count": 20,
     "metadata": {},
     "output_type": "execute_result"
    }
   ],
   "source": [
    "# we also know that the rating denominator value normally is equal to 10\n",
    "# is there a record with another value?\n",
    "df[df['rating_denominator'] != 10].shape[0]"
   ]
  },
  {
   "cell_type": "code",
   "execution_count": 21,
   "metadata": {},
   "outputs": [
    {
     "data": {
      "text/plain": [
       "6"
      ]
     },
     "execution_count": 21,
     "metadata": {},
     "output_type": "execute_result"
    }
   ],
   "source": [
    "# are there records where we have a rating numerator smaller than 10 and a rating denominator different than 10\n",
    "# at the same time?\n",
    "df[(df['rating_numerator'] < 10) & (df['rating_denominator'] != 10)].shape[0]"
   ]
  },
  {
   "cell_type": "code",
   "execution_count": 22,
   "metadata": {},
   "outputs": [
    {
     "data": {
      "text/plain": [
       "'This is Maisey. She fell asleep mid-excavation. Happens to the best of us. 13/10 would pat noggin approvingly https://t.co/tp1kQ8i9JF'"
      ]
     },
     "execution_count": 22,
     "metadata": {},
     "output_type": "execute_result"
    }
   ],
   "source": [
    "# all rows in text column has the link to the tweet\n",
    "df['text'][34]"
   ]
  },
  {
   "cell_type": "code",
   "execution_count": 23,
   "metadata": {},
   "outputs": [
    {
     "data": {
      "text/plain": [
       "24"
      ]
     },
     "execution_count": 23,
     "metadata": {},
     "output_type": "execute_result"
    }
   ],
   "source": [
    "# are there records with a very hight rate?\n",
    "df[df['rating_numerator'] > 20].shape[0]"
   ]
  },
  {
   "cell_type": "code",
   "execution_count": 24,
   "metadata": {},
   "outputs": [
    {
     "data": {
      "text/html": [
       "<div>\n",
       "<style scoped>\n",
       "    .dataframe tbody tr th:only-of-type {\n",
       "        vertical-align: middle;\n",
       "    }\n",
       "\n",
       "    .dataframe tbody tr th {\n",
       "        vertical-align: top;\n",
       "    }\n",
       "\n",
       "    .dataframe thead th {\n",
       "        text-align: right;\n",
       "    }\n",
       "</style>\n",
       "<table border=\"1\" class=\"dataframe\">\n",
       "  <thead>\n",
       "    <tr style=\"text-align: right;\">\n",
       "      <th></th>\n",
       "      <th>rating_numerator</th>\n",
       "      <th>rating_denominator</th>\n",
       "    </tr>\n",
       "  </thead>\n",
       "  <tbody>\n",
       "    <tr>\n",
       "      <th>188</th>\n",
       "      <td>420</td>\n",
       "      <td>10</td>\n",
       "    </tr>\n",
       "    <tr>\n",
       "      <th>189</th>\n",
       "      <td>666</td>\n",
       "      <td>10</td>\n",
       "    </tr>\n",
       "    <tr>\n",
       "      <th>290</th>\n",
       "      <td>182</td>\n",
       "      <td>10</td>\n",
       "    </tr>\n",
       "    <tr>\n",
       "      <th>313</th>\n",
       "      <td>960</td>\n",
       "      <td>0</td>\n",
       "    </tr>\n",
       "    <tr>\n",
       "      <th>340</th>\n",
       "      <td>75</td>\n",
       "      <td>10</td>\n",
       "    </tr>\n",
       "    <tr>\n",
       "      <th>433</th>\n",
       "      <td>84</td>\n",
       "      <td>70</td>\n",
       "    </tr>\n",
       "    <tr>\n",
       "      <th>516</th>\n",
       "      <td>24</td>\n",
       "      <td>7</td>\n",
       "    </tr>\n",
       "    <tr>\n",
       "      <th>695</th>\n",
       "      <td>75</td>\n",
       "      <td>10</td>\n",
       "    </tr>\n",
       "    <tr>\n",
       "      <th>763</th>\n",
       "      <td>27</td>\n",
       "      <td>10</td>\n",
       "    </tr>\n",
       "    <tr>\n",
       "      <th>902</th>\n",
       "      <td>165</td>\n",
       "      <td>150</td>\n",
       "    </tr>\n",
       "    <tr>\n",
       "      <th>979</th>\n",
       "      <td>1776</td>\n",
       "      <td>10</td>\n",
       "    </tr>\n",
       "    <tr>\n",
       "      <th>1120</th>\n",
       "      <td>204</td>\n",
       "      <td>170</td>\n",
       "    </tr>\n",
       "    <tr>\n",
       "      <th>1202</th>\n",
       "      <td>50</td>\n",
       "      <td>50</td>\n",
       "    </tr>\n",
       "    <tr>\n",
       "      <th>1228</th>\n",
       "      <td>99</td>\n",
       "      <td>90</td>\n",
       "    </tr>\n",
       "    <tr>\n",
       "      <th>1254</th>\n",
       "      <td>80</td>\n",
       "      <td>80</td>\n",
       "    </tr>\n",
       "    <tr>\n",
       "      <th>1274</th>\n",
       "      <td>45</td>\n",
       "      <td>50</td>\n",
       "    </tr>\n",
       "    <tr>\n",
       "      <th>1351</th>\n",
       "      <td>60</td>\n",
       "      <td>50</td>\n",
       "    </tr>\n",
       "    <tr>\n",
       "      <th>1433</th>\n",
       "      <td>44</td>\n",
       "      <td>40</td>\n",
       "    </tr>\n",
       "    <tr>\n",
       "      <th>1634</th>\n",
       "      <td>143</td>\n",
       "      <td>130</td>\n",
       "    </tr>\n",
       "    <tr>\n",
       "      <th>1635</th>\n",
       "      <td>121</td>\n",
       "      <td>110</td>\n",
       "    </tr>\n",
       "    <tr>\n",
       "      <th>1712</th>\n",
       "      <td>26</td>\n",
       "      <td>10</td>\n",
       "    </tr>\n",
       "    <tr>\n",
       "      <th>1779</th>\n",
       "      <td>144</td>\n",
       "      <td>120</td>\n",
       "    </tr>\n",
       "    <tr>\n",
       "      <th>1843</th>\n",
       "      <td>88</td>\n",
       "      <td>80</td>\n",
       "    </tr>\n",
       "    <tr>\n",
       "      <th>2074</th>\n",
       "      <td>420</td>\n",
       "      <td>10</td>\n",
       "    </tr>\n",
       "  </tbody>\n",
       "</table>\n",
       "</div>"
      ],
      "text/plain": [
       "      rating_numerator  rating_denominator\n",
       "188                420                  10\n",
       "189                666                  10\n",
       "290                182                  10\n",
       "313                960                   0\n",
       "340                 75                  10\n",
       "433                 84                  70\n",
       "516                 24                   7\n",
       "695                 75                  10\n",
       "763                 27                  10\n",
       "902                165                 150\n",
       "979               1776                  10\n",
       "1120               204                 170\n",
       "1202                50                  50\n",
       "1228                99                  90\n",
       "1254                80                  80\n",
       "1274                45                  50\n",
       "1351                60                  50\n",
       "1433                44                  40\n",
       "1634               143                 130\n",
       "1635               121                 110\n",
       "1712                26                  10\n",
       "1779               144                 120\n",
       "1843                88                  80\n",
       "2074               420                  10"
      ]
     },
     "execution_count": 24,
     "metadata": {},
     "output_type": "execute_result"
    }
   ],
   "source": [
    "df[df['rating_numerator'] > 20].iloc[:, -7:-5]"
   ]
  },
  {
   "cell_type": "markdown",
   "metadata": {},
   "source": [
    "### Quality Issues ###"
   ]
  },
  {
   "cell_type": "markdown",
   "metadata": {},
   "source": [
    "**1- Completeness:**\n",
    "\n",
    "- Missing data at `expanded_urls` column\n",
    "- Missing data at `name` column. Not every dog has a name in this dataset\n",
    "- We pratically don't have data for `in_reply_to_status_id` , `in_reply_to_user_id`, `retweeted_status_id`, `retweeted_status_user_id`, `retweeted_status_timestamp` columns. These 05 columns are useless for this dataset.\n",
    "- We don't need also the column `source`. The tweets links are also in each `text` row\n",
    "\n",
    "**2- Validity:**\n",
    "\n",
    "- Column `tweet_id` should be a string variable instead integer\n",
    "- Column `timestamp` should be a datetime variable instead string\n",
    "\n",
    "**3 - Accuracy:**\n",
    "\n",
    "- We have 440 records where the rating nominator is smaller than 10. \n",
    "- There're also 23 records where the rating denominator is different than 10.\n",
    "- There're also 6 records where these two situations described above happens at the same time.\n",
    "- We have 24 records where the rating numerator is higher than 20. \n",
    "\n",
    "Let's use the df_image dataset next to try to discover something about these ratings\n",
    "\n",
    "**These accuracy problems must be scrutinized with more details**\n",
    "\n",
    "\n",
    "**4- Consistency:**\n",
    "\n",
    "- This dataset misses a column with the division `rating_numerator` / `rating_denominator`. This column is important in order to allow further statistical analysis\n"
   ]
  },
  {
   "cell_type": "markdown",
   "metadata": {},
   "source": [
    "### Tidiness Issues ###"
   ]
  },
  {
   "cell_type": "markdown",
   "metadata": {},
   "source": [
    "- The `timestamp` column should have separated columns for date and hour. Accordin to one of the tidiness definition each variable day, month, year, etc should form a column. \n",
    "- We should have an unique column for Dog Stages with values like doggo, puppo, pupper, flooter or Nan (not every record has this classification)."
   ]
  },
  {
   "cell_type": "markdown",
   "metadata": {},
   "source": [
    "### 2. Downloaded programmatically neural network udacity image dataframe info ###"
   ]
  },
  {
   "cell_type": "code",
   "execution_count": 25,
   "metadata": {},
   "outputs": [
    {
     "data": {
      "text/html": [
       "<div>\n",
       "<style scoped>\n",
       "    .dataframe tbody tr th:only-of-type {\n",
       "        vertical-align: middle;\n",
       "    }\n",
       "\n",
       "    .dataframe tbody tr th {\n",
       "        vertical-align: top;\n",
       "    }\n",
       "\n",
       "    .dataframe thead th {\n",
       "        text-align: right;\n",
       "    }\n",
       "</style>\n",
       "<table border=\"1\" class=\"dataframe\">\n",
       "  <thead>\n",
       "    <tr style=\"text-align: right;\">\n",
       "      <th></th>\n",
       "      <th>tweet_id</th>\n",
       "      <th>jpg_url</th>\n",
       "      <th>img_num</th>\n",
       "      <th>p1</th>\n",
       "      <th>p1_conf</th>\n",
       "      <th>p1_dog</th>\n",
       "      <th>p2</th>\n",
       "      <th>p2_conf</th>\n",
       "      <th>p2_dog</th>\n",
       "      <th>p3</th>\n",
       "      <th>p3_conf</th>\n",
       "      <th>p3_dog</th>\n",
       "    </tr>\n",
       "  </thead>\n",
       "  <tbody>\n",
       "    <tr>\n",
       "      <th>0</th>\n",
       "      <td>666020888022790149</td>\n",
       "      <td>https://pbs.twimg.com/media/CT4udn0WwAA0aMy.jpg</td>\n",
       "      <td>1</td>\n",
       "      <td>Welsh_springer_spaniel</td>\n",
       "      <td>0.465074</td>\n",
       "      <td>True</td>\n",
       "      <td>collie</td>\n",
       "      <td>0.156665</td>\n",
       "      <td>True</td>\n",
       "      <td>Shetland_sheepdog</td>\n",
       "      <td>0.061428</td>\n",
       "      <td>True</td>\n",
       "    </tr>\n",
       "    <tr>\n",
       "      <th>1</th>\n",
       "      <td>666029285002620928</td>\n",
       "      <td>https://pbs.twimg.com/media/CT42GRgUYAA5iDo.jpg</td>\n",
       "      <td>1</td>\n",
       "      <td>redbone</td>\n",
       "      <td>0.506826</td>\n",
       "      <td>True</td>\n",
       "      <td>miniature_pinscher</td>\n",
       "      <td>0.074192</td>\n",
       "      <td>True</td>\n",
       "      <td>Rhodesian_ridgeback</td>\n",
       "      <td>0.072010</td>\n",
       "      <td>True</td>\n",
       "    </tr>\n",
       "    <tr>\n",
       "      <th>2</th>\n",
       "      <td>666033412701032449</td>\n",
       "      <td>https://pbs.twimg.com/media/CT4521TWwAEvMyu.jpg</td>\n",
       "      <td>1</td>\n",
       "      <td>German_shepherd</td>\n",
       "      <td>0.596461</td>\n",
       "      <td>True</td>\n",
       "      <td>malinois</td>\n",
       "      <td>0.138584</td>\n",
       "      <td>True</td>\n",
       "      <td>bloodhound</td>\n",
       "      <td>0.116197</td>\n",
       "      <td>True</td>\n",
       "    </tr>\n",
       "  </tbody>\n",
       "</table>\n",
       "</div>"
      ],
      "text/plain": [
       "             tweet_id                                          jpg_url  \\\n",
       "0  666020888022790149  https://pbs.twimg.com/media/CT4udn0WwAA0aMy.jpg   \n",
       "1  666029285002620928  https://pbs.twimg.com/media/CT42GRgUYAA5iDo.jpg   \n",
       "2  666033412701032449  https://pbs.twimg.com/media/CT4521TWwAEvMyu.jpg   \n",
       "\n",
       "   img_num                      p1   p1_conf  p1_dog                  p2  \\\n",
       "0        1  Welsh_springer_spaniel  0.465074    True              collie   \n",
       "1        1                 redbone  0.506826    True  miniature_pinscher   \n",
       "2        1         German_shepherd  0.596461    True            malinois   \n",
       "\n",
       "    p2_conf  p2_dog                   p3   p3_conf  p3_dog  \n",
       "0  0.156665    True    Shetland_sheepdog  0.061428    True  \n",
       "1  0.074192    True  Rhodesian_ridgeback  0.072010    True  \n",
       "2  0.138584    True           bloodhound  0.116197    True  "
      ]
     },
     "execution_count": 25,
     "metadata": {},
     "output_type": "execute_result"
    }
   ],
   "source": [
    "df_image.head(3)"
   ]
  },
  {
   "cell_type": "code",
   "execution_count": 26,
   "metadata": {},
   "outputs": [
    {
     "name": "stdout",
     "output_type": "stream",
     "text": [
      "<class 'pandas.core.frame.DataFrame'>\n",
      "RangeIndex: 2075 entries, 0 to 2074\n",
      "Data columns (total 12 columns):\n",
      "tweet_id    2075 non-null int64\n",
      "jpg_url     2075 non-null object\n",
      "img_num     2075 non-null int64\n",
      "p1          2075 non-null object\n",
      "p1_conf     2075 non-null float64\n",
      "p1_dog      2075 non-null bool\n",
      "p2          2075 non-null object\n",
      "p2_conf     2075 non-null float64\n",
      "p2_dog      2075 non-null bool\n",
      "p3          2075 non-null object\n",
      "p3_conf     2075 non-null float64\n",
      "p3_dog      2075 non-null bool\n",
      "dtypes: bool(3), float64(3), int64(2), object(4)\n",
      "memory usage: 152.1+ KB\n"
     ]
    }
   ],
   "source": [
    "df_image.info()"
   ]
  },
  {
   "cell_type": "code",
   "execution_count": 27,
   "metadata": {},
   "outputs": [
    {
     "data": {
      "text/plain": [
       "0"
      ]
     },
     "execution_count": 27,
     "metadata": {},
     "output_type": "execute_result"
    }
   ],
   "source": [
    "# number of tweets with no image\n",
    "sum(df_image['img_num'].isnull())"
   ]
  },
  {
   "cell_type": "code",
   "execution_count": 28,
   "metadata": {},
   "outputs": [
    {
     "data": {
      "text/plain": [
       "295"
      ]
     },
     "execution_count": 28,
     "metadata": {},
     "output_type": "execute_result"
    }
   ],
   "source": [
    "# number of tweets with more than 1 image uploaded, not a problem, just checking\n",
    "sum(df_image['img_num'] > 1)"
   ]
  },
  {
   "cell_type": "code",
   "execution_count": 29,
   "metadata": {},
   "outputs": [
    {
     "data": {
      "text/plain": [
       "1    1780\n",
       "2     198\n",
       "3      66\n",
       "4      31\n",
       "Name: img_num, dtype: int64"
      ]
     },
     "execution_count": 29,
     "metadata": {},
     "output_type": "execute_result"
    }
   ],
   "source": [
    "# what's the distribution of the number of images per tweet?\n",
    "df_image.img_num.value_counts()"
   ]
  },
  {
   "cell_type": "code",
   "execution_count": 30,
   "metadata": {},
   "outputs": [
    {
     "data": {
      "text/plain": [
       "tweet_id      int64\n",
       "jpg_url      object\n",
       "img_num       int64\n",
       "p1           object\n",
       "p1_conf     float64\n",
       "p1_dog         bool\n",
       "p2           object\n",
       "p2_conf     float64\n",
       "p2_dog         bool\n",
       "p3           object\n",
       "p3_conf     float64\n",
       "p3_dog         bool\n",
       "dtype: object"
      ]
     },
     "execution_count": 30,
     "metadata": {},
     "output_type": "execute_result"
    }
   ],
   "source": [
    "# once again tweet_id is an integer instead a string variable\n",
    "df_image.dtypes"
   ]
  },
  {
   "cell_type": "code",
   "execution_count": 31,
   "metadata": {},
   "outputs": [
    {
     "data": {
      "text/plain": [
       "0"
      ]
     },
     "execution_count": 31,
     "metadata": {},
     "output_type": "execute_result"
    }
   ],
   "source": [
    "# any duplicated tweet?\n",
    "sum(df_image.duplicated())"
   ]
  },
  {
   "cell_type": "markdown",
   "metadata": {},
   "source": [
    "At df dataframe we have found 2356 entries, at df_images, however, we have found 2075 (minus 281 records). Because of this, the accuracy problems found at df when assessing this dataframe will be assessed more detailed with df_image dataframe, since this analizys is going to focus in tweet ids whith dog images and then in the main df dataframe."
   ]
  },
  {
   "cell_type": "code",
   "execution_count": 32,
   "metadata": {},
   "outputs": [
    {
     "data": {
      "text/plain": [
       "1532"
      ]
     },
     "execution_count": 32,
     "metadata": {},
     "output_type": "execute_result"
    }
   ],
   "source": [
    "# check how many breeds were predicted as a dog breed\n",
    "sum(df_image['p1_dog'] == True)"
   ]
  },
  {
   "cell_type": "code",
   "execution_count": 33,
   "metadata": {},
   "outputs": [
    {
     "data": {
      "text/plain": [
       "543"
      ]
     },
     "execution_count": 33,
     "metadata": {},
     "output_type": "execute_result"
    }
   ],
   "source": [
    "# check how many breeds were predicted as not a dog breed. \n",
    "sum(df_image['p1_dog'] == False)"
   ]
  },
  {
   "cell_type": "code",
   "execution_count": 34,
   "metadata": {},
   "outputs": [
    {
     "data": {
      "text/plain": [
       "True"
      ]
     },
     "execution_count": 34,
     "metadata": {},
     "output_type": "execute_result"
    }
   ],
   "source": [
    "# just check if the number of entries matches \n",
    "sum(df_image['p1_dog'] == True) + sum(df_image['p1_dog'] == False) == df_image.shape[0]"
   ]
  },
  {
   "cell_type": "code",
   "execution_count": 35,
   "metadata": {},
   "outputs": [
    {
     "data": {
      "text/html": [
       "<div>\n",
       "<style scoped>\n",
       "    .dataframe tbody tr th:only-of-type {\n",
       "        vertical-align: middle;\n",
       "    }\n",
       "\n",
       "    .dataframe tbody tr th {\n",
       "        vertical-align: top;\n",
       "    }\n",
       "\n",
       "    .dataframe thead th {\n",
       "        text-align: right;\n",
       "    }\n",
       "</style>\n",
       "<table border=\"1\" class=\"dataframe\">\n",
       "  <thead>\n",
       "    <tr style=\"text-align: right;\">\n",
       "      <th></th>\n",
       "      <th>p1</th>\n",
       "      <th>p1_conf</th>\n",
       "      <th>p1_dog</th>\n",
       "    </tr>\n",
       "  </thead>\n",
       "  <tbody>\n",
       "    <tr>\n",
       "      <th>6</th>\n",
       "      <td>box_turtle</td>\n",
       "      <td>0.933012</td>\n",
       "      <td>False</td>\n",
       "    </tr>\n",
       "    <tr>\n",
       "      <th>8</th>\n",
       "      <td>shopping_cart</td>\n",
       "      <td>0.962465</td>\n",
       "      <td>False</td>\n",
       "    </tr>\n",
       "    <tr>\n",
       "      <th>17</th>\n",
       "      <td>hen</td>\n",
       "      <td>0.965932</td>\n",
       "      <td>False</td>\n",
       "    </tr>\n",
       "    <tr>\n",
       "      <th>18</th>\n",
       "      <td>desktop_computer</td>\n",
       "      <td>0.086502</td>\n",
       "      <td>False</td>\n",
       "    </tr>\n",
       "    <tr>\n",
       "      <th>21</th>\n",
       "      <td>three-toed_sloth</td>\n",
       "      <td>0.914671</td>\n",
       "      <td>False</td>\n",
       "    </tr>\n",
       "    <tr>\n",
       "      <th>22</th>\n",
       "      <td>ox</td>\n",
       "      <td>0.416669</td>\n",
       "      <td>False</td>\n",
       "    </tr>\n",
       "    <tr>\n",
       "      <th>25</th>\n",
       "      <td>guinea_pig</td>\n",
       "      <td>0.996496</td>\n",
       "      <td>False</td>\n",
       "    </tr>\n",
       "    <tr>\n",
       "      <th>29</th>\n",
       "      <td>coho</td>\n",
       "      <td>0.404640</td>\n",
       "      <td>False</td>\n",
       "    </tr>\n",
       "    <tr>\n",
       "      <th>33</th>\n",
       "      <td>llama</td>\n",
       "      <td>0.505184</td>\n",
       "      <td>False</td>\n",
       "    </tr>\n",
       "    <tr>\n",
       "      <th>43</th>\n",
       "      <td>seat_belt</td>\n",
       "      <td>0.375057</td>\n",
       "      <td>False</td>\n",
       "    </tr>\n",
       "  </tbody>\n",
       "</table>\n",
       "</div>"
      ],
      "text/plain": [
       "                  p1   p1_conf  p1_dog\n",
       "6         box_turtle  0.933012   False\n",
       "8      shopping_cart  0.962465   False\n",
       "17               hen  0.965932   False\n",
       "18  desktop_computer  0.086502   False\n",
       "21  three-toed_sloth  0.914671   False\n",
       "22                ox  0.416669   False\n",
       "25        guinea_pig  0.996496   False\n",
       "29              coho  0.404640   False\n",
       "33             llama  0.505184   False\n",
       "43         seat_belt  0.375057   False"
      ]
     },
     "execution_count": 35,
     "metadata": {},
     "output_type": "execute_result"
    }
   ],
   "source": [
    "# what kind of \"breeds\" we have when the algorithm didn't predicted a dog?\n",
    "df_image[df_image['p1_dog'] == False].iloc[:,-9:-6].head(10)"
   ]
  },
  {
   "cell_type": "code",
   "execution_count": 36,
   "metadata": {},
   "outputs": [
    {
     "name": "stdout",
     "output_type": "stream",
     "text": [
      "golden_retriever                  150\n",
      "Labrador_retriever                100\n",
      "Pembroke                           89\n",
      "Chihuahua                          83\n",
      "pug                                57\n",
      "chow                               44\n",
      "Samoyed                            43\n",
      "toy_poodle                         39\n",
      "Pomeranian                         38\n",
      "malamute                           30\n",
      "cocker_spaniel                     30\n",
      "French_bulldog                     26\n",
      "miniature_pinscher                 23\n",
      "Chesapeake_Bay_retriever           23\n",
      "seat_belt                          22\n",
      "Staffordshire_bullterrier          20\n",
      "Siberian_husky                     20\n",
      "German_shepherd                    20\n",
      "web_site                           19\n",
      "Cardigan                           19\n",
      "beagle                             18\n",
      "Maltese_dog                        18\n",
      "teddy                              18\n",
      "Eskimo_dog                         18\n",
      "Shetland_sheepdog                  18\n",
      "Rottweiler                         17\n",
      "Shih-Tzu                           17\n",
      "Lakeland_terrier                   17\n",
      "kuvasz                             16\n",
      "Italian_greyhound                  16\n",
      "West_Highland_white_terrier        14\n",
      "Great_Pyrenees                     14\n",
      "Pekinese                           13\n",
      "vizsla                             13\n",
      "dalmatian                          13\n",
      "basset                             13\n",
      "American_Staffordshire_terrier     13\n",
      "Airedale                           12\n",
      "Old_English_sheepdog               12\n",
      "Border_collie                      12\n",
      "soft-coated_wheaten_terrier        11\n",
      "kelpie                             11\n",
      "Blenheim_spaniel                   11\n",
      "collie                             10\n",
      "schipperke                         10\n",
      "English_springer                   10\n",
      "Bernese_mountain_dog               10\n",
      "boxer                              10\n",
      "whippet                             9\n",
      "borzoi                              9\n",
      "malinois                            9\n",
      "dingo                               9\n",
      "Great_Dane                          9\n",
      "Boston_bull                         9\n",
      "tennis_ball                         9\n",
      "Yorkshire_terrier                   8\n",
      "papillon                            8\n",
      "flat-coated_retriever               8\n",
      "doormat                             8\n",
      "Doberman                            8\n",
      "Norwegian_elkhound                  8\n",
      "standard_poodle                     8\n",
      "miniature_poodle                    8\n",
      "English_setter                      8\n",
      "Brittany_spaniel                    7\n",
      "basenji                             7\n",
      "bath_towel                          7\n",
      "hamster                             7\n",
      "Norfolk_terrier                     7\n",
      "tub                                 7\n",
      "German_short-haired_pointer         7\n",
      "Border_terrier                      7\n",
      "Saint_Bernard                       7\n",
      "Siamese_cat                         7\n",
      "swing                               7\n",
      "bloodhound                          7\n",
      "Irish_setter                        6\n",
      "redbone                             6\n",
      "Irish_terrier                       6\n",
      "car_mirror                          6\n",
      "ice_bear                            6\n",
      "llama                               6\n",
      "home_theater                        6\n",
      "Dandie_Dinmont                      6\n",
      "Walker_hound                        5\n",
      "Tibetan_mastiff                     5\n",
      "shopping_cart                       5\n",
      "Bedlington_terrier                  5\n",
      "hippopotamus                        5\n",
      "Newfoundland                        5\n",
      "Lhasa                               5\n",
      "ox                                  5\n",
      "minivan                             5\n",
      "bull_mastiff                        5\n",
      "porcupine                           5\n",
      "Gordon_setter                       4\n",
      "jigsaw_puzzle                       4\n",
      "Saluki                              4\n",
      "barrow                              4\n",
      "keeshond                            4\n",
      "Weimaraner                          4\n",
      "bluetick                            4\n",
      "Afghan_hound                        4\n",
      "bow_tie                             4\n",
      "brown_bear                          4\n",
      "Rhodesian_ridgeback                 4\n",
      "Mexican_hairless                    4\n",
      "guinea_pig                          4\n",
      "bathtub                             4\n",
      "Arctic_fox                          4\n",
      "miniature_schnauzer                 4\n",
      "wombat                              4\n",
      "goose                               4\n",
      "hog                                 4\n",
      "patio                               4\n",
      "Tibetan_terrier                     4\n",
      "Norwich_terrier                     4\n",
      "Irish_water_spaniel                 3\n",
      "toilet_tissue                       3\n",
      "window_shade                        3\n",
      "giant_schnauzer                     3\n",
      "mousetrap                           3\n",
      "triceratops                         3\n",
      "muzzle                              3\n",
      "curly-coated_retriever              3\n",
      "Leonberg                            3\n",
      "cairn                               3\n",
      "prison                              3\n",
      "wood_rabbit                         3\n",
      "comic_book                          3\n",
      "komondor                            3\n",
      "ski_mask                            3\n",
      "balloon                             3\n",
      "sea_lion                            3\n",
      "jack-o'-lantern                     3\n",
      "Scottish_deerhound                  3\n",
      "common_iguana                       3\n",
      "space_heater                        3\n",
      "dishwasher                          3\n",
      "Arabian_camel                       3\n",
      "Greater_Swiss_Mountain_dog          3\n",
      "briard                              3\n",
      "Ibizan_hound                        3\n",
      "refrigerator                        3\n",
      "vacuum                              3\n",
      "Brabancon_griffon                   3\n",
      "Christmas_stocking                  3\n",
      "stone_wall                          3\n",
      "cowboy_hat                          3\n",
      "ram                                 3\n",
      "washbasin                           3\n",
      "Welsh_springer_spaniel              3\n",
      "seashore                            3\n",
      "white_wolf                          3\n",
      "motor_scooter                       3\n",
      "dogsled                             2\n",
      "hen                                 2\n",
      "bustard                             2\n",
      "geyser                              2\n",
      "street_sign                         2\n",
      "chimpanzee                          2\n",
      "wallaby                             2\n",
      "Appenzeller                         2\n",
      "snail                               2\n",
      "sorrel                              2\n",
      "lakeside                            2\n",
      "dough                               2\n",
      "hermit_crab                         2\n",
      "badger                              2\n",
      "toy_terrier                         2\n",
      "hyena                               2\n",
      "paper_towel                         2\n",
      "bubble                              2\n",
      "shower_curtain                      2\n",
      "cash_machine                        2\n",
      "Sussex_spaniel                      2\n",
      "upright                             2\n",
      "leatherback_turtle                  2\n",
      "Loafer                              2\n",
      "frilled_lizard                      2\n",
      "Angora                              2\n",
      "paddle                              2\n",
      "acorn_squash                        2\n",
      "weasel                              2\n",
      "tabby                               2\n",
      "black-and-tan_coonhound             2\n",
      "Australian_terrier                  2\n",
      "wire-haired_fox_terrier             2\n",
      "birdhouse                           2\n",
      "ostrich                             2\n",
      "snorkel                             2\n",
      "tusker                              2\n",
      "laptop                              2\n",
      "wool                                2\n",
      "box_turtle                          2\n",
      "feather_boa                         2\n",
      "koala                               2\n",
      "gas_pump                            2\n",
      "axolotl                             2\n",
      "gondola                             2\n",
      "toyshop                             2\n",
      "jellyfish                           2\n",
      "meerkat                             2\n",
      "beach_wagon                         1\n",
      "hare                                1\n",
      "cheetah                             1\n",
      "ping-pong_ball                      1\n",
      "terrapin                            1\n",
      "cheeseburger                        1\n",
      "silky_terrier                       1\n",
      "syringe                             1\n",
      "beaver                              1\n",
      "canoe                               1\n",
      "handkerchief                        1\n",
      "king_penguin                        1\n",
      "Madagascar_cat                      1\n",
      "bonnet                              1\n",
      "loupe                               1\n",
      "carousel                            1\n",
      "cup                                 1\n",
      "espresso                            1\n",
      "lawn_mower                          1\n",
      "teapot                              1\n",
      "bison                               1\n",
      "slug                                1\n",
      "revolver                            1\n",
      "sandbar                             1\n",
      "picket_fence                        1\n",
      "tick                                1\n",
      "stove                               1\n",
      "pillow                              1\n",
      "coho                                1\n",
      "African_hunting_dog                 1\n",
      "dhole                               1\n",
      "wild_boar                           1\n",
      "sulphur-crested_cockatoo            1\n",
      "rotisserie                          1\n",
      "hay                                 1\n",
      "basketball                          1\n",
      "tricycle                            1\n",
      "Scotch_terrier                      1\n",
      "conch                               1\n",
      "binoculars                          1\n",
      "bib                                 1\n",
      "maze                                1\n",
      "harp                                1\n",
      "sunglasses                          1\n",
      "minibus                             1\n",
      "ibex                                1\n",
      "school_bus                          1\n",
      "orange                              1\n",
      "shield                              1\n",
      "maillot                             1\n",
      "barbell                             1\n",
      "hummingbird                         1\n",
      "bannister                           1\n",
      "dining_table                        1\n",
      "microphone                          1\n",
      "robin                               1\n",
      "grille                              1\n",
      "shopping_basket                     1\n",
      "mortarboard                         1\n",
      "sea_urchin                          1\n",
      "grey_fox                            1\n",
      "pitcher                             1\n",
      "toilet_seat                         1\n",
      "killer_whale                        1\n",
      "fire_engine                         1\n",
      "earthstar                           1\n",
      "china_cabinet                       1\n",
      "bee_eater                           1\n",
      "panpipe                             1\n",
      "ice_lolly                           1\n",
      "swab                                1\n",
      "sliding_door                        1\n",
      "mud_turtle                          1\n",
      "nail                                1\n",
      "alp                                 1\n",
      "clumber                             1\n",
      "washer                              1\n",
      "giant_panda                         1\n",
      "snowmobile                          1\n",
      "lorikeet                            1\n",
      "mailbox                             1\n",
      "ocarina                             1\n",
      "lacewing                            1\n",
      "rain_barrel                         1\n",
      "otter                               1\n",
      "polecat                             1\n",
      "lynx                                1\n",
      "cuirass                             1\n",
      "peacock                             1\n",
      "desktop_computer                    1\n",
      "trombone                            1\n",
      "tiger_shark                         1\n",
      "long-horned_beetle                  1\n",
      "skunk                               1\n",
      "walking_stick                       1\n",
      "pedestal                            1\n",
      "clog                                1\n",
      "flamingo                            1\n",
      "soccer_ball                         1\n",
      "coil                                1\n",
      "wooden_spoon                        1\n",
      "three-toed_sloth                    1\n",
      "bighorn                             1\n",
      "candle                              1\n",
      "black-footed_ferret                 1\n",
      "platypus                            1\n",
      "starfish                            1\n",
      "agama                               1\n",
      "zebra                               1\n",
      "book_jacket                         1\n",
      "restaurant                          1\n",
      "hand_blower                         1\n",
      "bald_eagle                          1\n",
      "EntleBucher                         1\n",
      "bookcase                            1\n",
      "banana                              1\n",
      "pot                                 1\n",
      "park_bench                          1\n",
      "water_buffalo                       1\n",
      "envelope                            1\n",
      "marmot                              1\n",
      "leopard                             1\n",
      "bow                                 1\n",
      "prayer_rug                          1\n",
      "fountain                            1\n",
      "Japanese_spaniel                    1\n",
      "four-poster                         1\n",
      "pencil_box                          1\n",
      "radio_telescope                     1\n",
      "electric_fan                        1\n",
      "suit                                1\n",
      "sundial                             1\n",
      "convertible                         1\n",
      "Egyptian_cat                        1\n",
      "carton                              1\n",
      "lion                                1\n",
      "jersey                              1\n",
      "crane                               1\n",
      "remote_control                      1\n",
      "hammer                              1\n",
      "bearskin                            1\n",
      "American_black_bear                 1\n",
      "rapeseed                            1\n",
      "pole                                1\n",
      "coral_reef                          1\n",
      "pool_table                          1\n",
      "military_uniform                    1\n",
      "microwave                           1\n",
      "studio_couch                        1\n",
      "bookshop                            1\n",
      "tailed_frog                         1\n",
      "leaf_beetle                         1\n",
      "cougar                              1\n",
      "hotdog                              1\n",
      "traffic_light                       1\n",
      "cowboy_boot                         1\n",
      "guenon                              1\n",
      "timber_wolf                         1\n",
      "groenendael                         1\n",
      "damselfly                           1\n",
      "standard_schnauzer                  1\n",
      "piggy_bank                          1\n",
      "scorpion                            1\n",
      "water_bottle                        1\n",
      "padlock                             1\n",
      "fiddler_crab                        1\n",
      "African_grey                        1\n",
      "African_crocodile                   1\n",
      "boathouse                           1\n",
      "bakery                              1\n",
      "cliff                               1\n",
      "limousine                           1\n",
      "quilt                               1\n",
      "crash_helmet                        1\n",
      "coffee_mug                          1\n",
      "Name: p1, dtype: int64\n"
     ]
    }
   ],
   "source": [
    "# which dog breeds do we have?\n",
    "with pd.option_context('display.max_rows', None, 'display.max_columns', None):\n",
    "    print(df_image['p1'].value_counts())"
   ]
  },
  {
   "cell_type": "markdown",
   "metadata": {},
   "source": [
    "Haven't found different names for the same breed! we don't have consistency problem with this dataset\n",
    "we have some breed names starting with capital letters and some with small letters. It can be easlly fixed. These strange breed names are going to be dropped as investigated above."
   ]
  },
  {
   "cell_type": "markdown",
   "metadata": {},
   "source": [
    "### Quality Issues ###"
   ]
  },
  {
   "cell_type": "markdown",
   "metadata": {},
   "source": [
    "**1- Completeness:**\n",
    "\n",
    "- Missing records: in this dataset we have 2075 entries, less than 2356, the number of entries in the downloaded by WeRateDogs dataset (checked above)\n",
    "  \n",
    "**2- Validity:**\n",
    "\n",
    "- We have the same problem with the variable type of the column `tweet_id`. It should be a string instead an integer number. \n",
    "\n",
    "**3 - Accuracy:**\n",
    "\n",
    "- Not every predicted breed is a dog breed (e.g.: llama, guinea_pig). Some predictions are an object, not an animal (e.g.: seat_belt, shopping_cart, desktop_computer). Some of them were due to another animal in the tweet and must be dropped, others were wrongly predicted, but can be fixed manually."
   ]
  },
  {
   "cell_type": "markdown",
   "metadata": {},
   "source": [
    "### Tidiness Issues ###"
   ]
  },
  {
   "cell_type": "markdown",
   "metadata": {},
   "source": [
    "- We should have an unique breed name in each row, in a single column named `breed` as a variable. So we don't need the others columns (`p2_...` and `p3_...`)"
   ]
  },
  {
   "cell_type": "markdown",
   "metadata": {},
   "source": [
    "### 3. Tweeter API downloaded Json file dataframe info ###"
   ]
  },
  {
   "cell_type": "code",
   "execution_count": 37,
   "metadata": {},
   "outputs": [
    {
     "name": "stdout",
     "output_type": "stream",
     "text": [
      "<class 'pandas.core.frame.DataFrame'>\n",
      "RangeIndex: 2333 entries, 0 to 2332\n",
      "Data columns (total 3 columns):\n",
      "tweet_id           2333 non-null int64\n",
      "favorites_count    2333 non-null int64\n",
      "retweets_count     2333 non-null int64\n",
      "dtypes: int64(3)\n",
      "memory usage: 54.8 KB\n"
     ]
    }
   ],
   "source": [
    "df_api.info()"
   ]
  },
  {
   "cell_type": "code",
   "execution_count": 38,
   "metadata": {},
   "outputs": [
    {
     "data": {
      "text/html": [
       "<div>\n",
       "<style scoped>\n",
       "    .dataframe tbody tr th:only-of-type {\n",
       "        vertical-align: middle;\n",
       "    }\n",
       "\n",
       "    .dataframe tbody tr th {\n",
       "        vertical-align: top;\n",
       "    }\n",
       "\n",
       "    .dataframe thead th {\n",
       "        text-align: right;\n",
       "    }\n",
       "</style>\n",
       "<table border=\"1\" class=\"dataframe\">\n",
       "  <thead>\n",
       "    <tr style=\"text-align: right;\">\n",
       "      <th></th>\n",
       "      <th>tweet_id</th>\n",
       "      <th>favorites_count</th>\n",
       "      <th>retweets_count</th>\n",
       "    </tr>\n",
       "  </thead>\n",
       "  <tbody>\n",
       "    <tr>\n",
       "      <th>0</th>\n",
       "      <td>892420643555336193</td>\n",
       "      <td>37149</td>\n",
       "      <td>7947</td>\n",
       "    </tr>\n",
       "    <tr>\n",
       "      <th>1</th>\n",
       "      <td>892177421306343426</td>\n",
       "      <td>31957</td>\n",
       "      <td>5902</td>\n",
       "    </tr>\n",
       "    <tr>\n",
       "      <th>2</th>\n",
       "      <td>891815181378084864</td>\n",
       "      <td>24066</td>\n",
       "      <td>3902</td>\n",
       "    </tr>\n",
       "    <tr>\n",
       "      <th>3</th>\n",
       "      <td>891689557279858688</td>\n",
       "      <td>40478</td>\n",
       "      <td>8099</td>\n",
       "    </tr>\n",
       "    <tr>\n",
       "      <th>4</th>\n",
       "      <td>891327558926688256</td>\n",
       "      <td>38706</td>\n",
       "      <td>8785</td>\n",
       "    </tr>\n",
       "  </tbody>\n",
       "</table>\n",
       "</div>"
      ],
      "text/plain": [
       "             tweet_id  favorites_count  retweets_count\n",
       "0  892420643555336193            37149            7947\n",
       "1  892177421306343426            31957            5902\n",
       "2  891815181378084864            24066            3902\n",
       "3  891689557279858688            40478            8099\n",
       "4  891327558926688256            38706            8785"
      ]
     },
     "execution_count": 38,
     "metadata": {},
     "output_type": "execute_result"
    }
   ],
   "source": [
    "df_api.head()"
   ]
  },
  {
   "cell_type": "code",
   "execution_count": 39,
   "metadata": {},
   "outputs": [
    {
     "data": {
      "text/html": [
       "<div>\n",
       "<style scoped>\n",
       "    .dataframe tbody tr th:only-of-type {\n",
       "        vertical-align: middle;\n",
       "    }\n",
       "\n",
       "    .dataframe tbody tr th {\n",
       "        vertical-align: top;\n",
       "    }\n",
       "\n",
       "    .dataframe thead th {\n",
       "        text-align: right;\n",
       "    }\n",
       "</style>\n",
       "<table border=\"1\" class=\"dataframe\">\n",
       "  <thead>\n",
       "    <tr style=\"text-align: right;\">\n",
       "      <th></th>\n",
       "      <th>tweet_id</th>\n",
       "      <th>favorites_count</th>\n",
       "      <th>retweets_count</th>\n",
       "    </tr>\n",
       "  </thead>\n",
       "  <tbody>\n",
       "    <tr>\n",
       "      <th>92</th>\n",
       "      <td>874057562936811520</td>\n",
       "      <td>21886</td>\n",
       "      <td>3752</td>\n",
       "    </tr>\n",
       "    <tr>\n",
       "      <th>1562</th>\n",
       "      <td>687096057537363968</td>\n",
       "      <td>2298</td>\n",
       "      <td>617</td>\n",
       "    </tr>\n",
       "    <tr>\n",
       "      <th>2080</th>\n",
       "      <td>670676092097810432</td>\n",
       "      <td>245</td>\n",
       "      <td>42</td>\n",
       "    </tr>\n",
       "    <tr>\n",
       "      <th>1215</th>\n",
       "      <td>712309440758808576</td>\n",
       "      <td>247</td>\n",
       "      <td>25</td>\n",
       "    </tr>\n",
       "    <tr>\n",
       "      <th>730</th>\n",
       "      <td>779377524342161408</td>\n",
       "      <td>9185</td>\n",
       "      <td>3254</td>\n",
       "    </tr>\n",
       "    <tr>\n",
       "      <th>1578</th>\n",
       "      <td>686007916130873345</td>\n",
       "      <td>2548</td>\n",
       "      <td>426</td>\n",
       "    </tr>\n",
       "    <tr>\n",
       "      <th>405</th>\n",
       "      <td>821886076407029760</td>\n",
       "      <td>11769</td>\n",
       "      <td>2429</td>\n",
       "    </tr>\n",
       "    <tr>\n",
       "      <th>1147</th>\n",
       "      <td>720785406564900865</td>\n",
       "      <td>3176</td>\n",
       "      <td>783</td>\n",
       "    </tr>\n",
       "    <tr>\n",
       "      <th>1064</th>\n",
       "      <td>738166403467907072</td>\n",
       "      <td>8985</td>\n",
       "      <td>3462</td>\n",
       "    </tr>\n",
       "    <tr>\n",
       "      <th>454</th>\n",
       "      <td>816816676327063552</td>\n",
       "      <td>10444</td>\n",
       "      <td>2146</td>\n",
       "    </tr>\n",
       "    <tr>\n",
       "      <th>2110</th>\n",
       "      <td>670073503555706880</td>\n",
       "      <td>1562</td>\n",
       "      <td>773</td>\n",
       "    </tr>\n",
       "    <tr>\n",
       "      <th>644</th>\n",
       "      <td>790987426131050500</td>\n",
       "      <td>10333</td>\n",
       "      <td>2245</td>\n",
       "    </tr>\n",
       "    <tr>\n",
       "      <th>710</th>\n",
       "      <td>782021823840026624</td>\n",
       "      <td>0</td>\n",
       "      <td>6512</td>\n",
       "    </tr>\n",
       "    <tr>\n",
       "      <th>1104</th>\n",
       "      <td>729854734790754305</td>\n",
       "      <td>4130</td>\n",
       "      <td>1158</td>\n",
       "    </tr>\n",
       "    <tr>\n",
       "      <th>2162</th>\n",
       "      <td>668986018524233728</td>\n",
       "      <td>550</td>\n",
       "      <td>165</td>\n",
       "    </tr>\n",
       "    <tr>\n",
       "      <th>445</th>\n",
       "      <td>817536400337801217</td>\n",
       "      <td>12270</td>\n",
       "      <td>3126</td>\n",
       "    </tr>\n",
       "    <tr>\n",
       "      <th>1962</th>\n",
       "      <td>672898206762672129</td>\n",
       "      <td>897</td>\n",
       "      <td>424</td>\n",
       "    </tr>\n",
       "    <tr>\n",
       "      <th>1290</th>\n",
       "      <td>707014260413456384</td>\n",
       "      <td>2354</td>\n",
       "      <td>604</td>\n",
       "    </tr>\n",
       "    <tr>\n",
       "      <th>884</th>\n",
       "      <td>758099635764359168</td>\n",
       "      <td>19775</td>\n",
       "      <td>10400</td>\n",
       "    </tr>\n",
       "    <tr>\n",
       "      <th>875</th>\n",
       "      <td>759099523532779520</td>\n",
       "      <td>14989</td>\n",
       "      <td>4323</td>\n",
       "    </tr>\n",
       "    <tr>\n",
       "      <th>208</th>\n",
       "      <td>850380195714523136</td>\n",
       "      <td>13187</td>\n",
       "      <td>2636</td>\n",
       "    </tr>\n",
       "    <tr>\n",
       "      <th>379</th>\n",
       "      <td>825535076884762624</td>\n",
       "      <td>54006</td>\n",
       "      <td>18007</td>\n",
       "    </tr>\n",
       "    <tr>\n",
       "      <th>1658</th>\n",
       "      <td>682003177596559360</td>\n",
       "      <td>3212</td>\n",
       "      <td>1569</td>\n",
       "    </tr>\n",
       "    <tr>\n",
       "      <th>63</th>\n",
       "      <td>879674319642796034</td>\n",
       "      <td>300</td>\n",
       "      <td>10</td>\n",
       "    </tr>\n",
       "    <tr>\n",
       "      <th>1212</th>\n",
       "      <td>712717840512598017</td>\n",
       "      <td>12594</td>\n",
       "      <td>5101</td>\n",
       "    </tr>\n",
       "    <tr>\n",
       "      <th>1522</th>\n",
       "      <td>689517482558820352</td>\n",
       "      <td>3480</td>\n",
       "      <td>1469</td>\n",
       "    </tr>\n",
       "    <tr>\n",
       "      <th>1495</th>\n",
       "      <td>690938899477221376</td>\n",
       "      <td>4216</td>\n",
       "      <td>2026</td>\n",
       "    </tr>\n",
       "    <tr>\n",
       "      <th>1763</th>\n",
       "      <td>677573743309385728</td>\n",
       "      <td>2159</td>\n",
       "      <td>727</td>\n",
       "    </tr>\n",
       "    <tr>\n",
       "      <th>605</th>\n",
       "      <td>796031486298386433</td>\n",
       "      <td>11327</td>\n",
       "      <td>3917</td>\n",
       "    </tr>\n",
       "    <tr>\n",
       "      <th>462</th>\n",
       "      <td>815966073409433600</td>\n",
       "      <td>23351</td>\n",
       "      <td>8891</td>\n",
       "    </tr>\n",
       "  </tbody>\n",
       "</table>\n",
       "</div>"
      ],
      "text/plain": [
       "                tweet_id  favorites_count  retweets_count\n",
       "92    874057562936811520            21886            3752\n",
       "1562  687096057537363968             2298             617\n",
       "2080  670676092097810432              245              42\n",
       "1215  712309440758808576              247              25\n",
       "730   779377524342161408             9185            3254\n",
       "1578  686007916130873345             2548             426\n",
       "405   821886076407029760            11769            2429\n",
       "1147  720785406564900865             3176             783\n",
       "1064  738166403467907072             8985            3462\n",
       "454   816816676327063552            10444            2146\n",
       "2110  670073503555706880             1562             773\n",
       "644   790987426131050500            10333            2245\n",
       "710   782021823840026624                0            6512\n",
       "1104  729854734790754305             4130            1158\n",
       "2162  668986018524233728              550             165\n",
       "445   817536400337801217            12270            3126\n",
       "1962  672898206762672129              897             424\n",
       "1290  707014260413456384             2354             604\n",
       "884   758099635764359168            19775           10400\n",
       "875   759099523532779520            14989            4323\n",
       "208   850380195714523136            13187            2636\n",
       "379   825535076884762624            54006           18007\n",
       "1658  682003177596559360             3212            1569\n",
       "63    879674319642796034              300              10\n",
       "1212  712717840512598017            12594            5101\n",
       "1522  689517482558820352             3480            1469\n",
       "1495  690938899477221376             4216            2026\n",
       "1763  677573743309385728             2159             727\n",
       "605   796031486298386433            11327            3917\n",
       "462   815966073409433600            23351            8891"
      ]
     },
     "execution_count": 39,
     "metadata": {},
     "output_type": "execute_result"
    }
   ],
   "source": [
    "df_api.sample(30)"
   ]
  },
  {
   "cell_type": "code",
   "execution_count": 40,
   "metadata": {},
   "outputs": [
    {
     "data": {
      "text/plain": [
       "0"
      ]
     },
     "execution_count": 40,
     "metadata": {},
     "output_type": "execute_result"
    }
   ],
   "source": [
    "# any duplicated tweet?\n",
    "sum(df_api.duplicated())"
   ]
  },
  {
   "cell_type": "markdown",
   "metadata": {},
   "source": [
    "### Quality Issues ###"
   ]
  },
  {
   "cell_type": "markdown",
   "metadata": {},
   "source": [
    "**1- Completeness:**\n",
    "\n",
    "- Here the only problem is the mismatch in the number of entries. In this dataset we have 2333 entries against 2075 entries in the images data set and 2356 entries in the main dataset.\n",
    "\n",
    "**2- Validity:**\n",
    "\n",
    "- We have the same problem with the variable type of the column `tweet_id`. It should be a string instead an integer number."
   ]
  },
  {
   "cell_type": "markdown",
   "metadata": {},
   "source": [
    "### Tidiness Issues ###"
   ]
  },
  {
   "cell_type": "markdown",
   "metadata": {},
   "source": [
    "No tidiness issues in this dataset!"
   ]
  },
  {
   "cell_type": "markdown",
   "metadata": {},
   "source": [
    "<a id='regression'></a>\n",
    "### Part III - Cleaning Data"
   ]
  },
  {
   "cell_type": "markdown",
   "metadata": {},
   "source": [
    "### Copy of the Data Frames ####"
   ]
  },
  {
   "cell_type": "code",
   "execution_count": 41,
   "metadata": {},
   "outputs": [],
   "source": [
    "df_clean = df.copy()\n",
    "df_image_clean = df_image.copy()\n",
    "df_api_clean = df_api.copy()"
   ]
  },
  {
   "cell_type": "markdown",
   "metadata": {},
   "source": [
    "### Quality Issues Cleaning ###"
   ]
  },
  {
   "cell_type": "markdown",
   "metadata": {},
   "source": [
    "### Completeness ###"
   ]
  },
  {
   "cell_type": "markdown",
   "metadata": {},
   "source": [
    "#### 1. Define ####"
   ]
  },
  {
   "cell_type": "markdown",
   "metadata": {},
   "source": [
    "Remove `in_reply_to_status_id` , `in_reply_to_user_id`, `source`,`retweeted_status_id`, `retweeted_status_user_id`, `retweeted_status_timestamp`, `expanded_urls` columns from df DataFrame."
   ]
  },
  {
   "cell_type": "markdown",
   "metadata": {},
   "source": [
    "#### Code ####"
   ]
  },
  {
   "cell_type": "code",
   "execution_count": 42,
   "metadata": {},
   "outputs": [
    {
     "name": "stdout",
     "output_type": "stream",
     "text": [
      "<class 'pandas.core.frame.DataFrame'>\n",
      "RangeIndex: 2356 entries, 0 to 2355\n",
      "Data columns (total 17 columns):\n",
      "tweet_id                      2356 non-null int64\n",
      "in_reply_to_status_id         78 non-null float64\n",
      "in_reply_to_user_id           78 non-null float64\n",
      "timestamp                     2356 non-null object\n",
      "source                        2356 non-null object\n",
      "text                          2356 non-null object\n",
      "retweeted_status_id           181 non-null float64\n",
      "retweeted_status_user_id      181 non-null float64\n",
      "retweeted_status_timestamp    181 non-null object\n",
      "expanded_urls                 2297 non-null object\n",
      "rating_numerator              2356 non-null int64\n",
      "rating_denominator            2356 non-null int64\n",
      "name                          2356 non-null object\n",
      "doggo                         2356 non-null object\n",
      "floofer                       2356 non-null object\n",
      "pupper                        2356 non-null object\n",
      "puppo                         2356 non-null object\n",
      "dtypes: float64(4), int64(3), object(10)\n",
      "memory usage: 313.0+ KB\n"
     ]
    }
   ],
   "source": [
    "df_clean.info()"
   ]
  },
  {
   "cell_type": "code",
   "execution_count": 43,
   "metadata": {},
   "outputs": [],
   "source": [
    "drop_columns_list = ['in_reply_to_status_id', 'in_reply_to_user_id', 'source','retweeted_status_id', \n",
    "                     'retweeted_status_user_id', 'retweeted_status_timestamp', 'expanded_urls']\n",
    "\n",
    "df_clean.drop(columns = drop_columns_list, axis= 1, inplace = True)"
   ]
  },
  {
   "cell_type": "markdown",
   "metadata": {},
   "source": [
    "#### Test ####"
   ]
  },
  {
   "cell_type": "code",
   "execution_count": 44,
   "metadata": {},
   "outputs": [
    {
     "data": {
      "text/plain": [
       "True"
      ]
     },
     "execution_count": 44,
     "metadata": {},
     "output_type": "execute_result"
    }
   ],
   "source": [
    "# Should have 10 columns instead 17\n",
    "df_clean.shape[1] == 10"
   ]
  },
  {
   "cell_type": "markdown",
   "metadata": {},
   "source": [
    "### Validity ###"
   ]
  },
  {
   "cell_type": "markdown",
   "metadata": {},
   "source": [
    "#### Define ####"
   ]
  },
  {
   "cell_type": "markdown",
   "metadata": {},
   "source": [
    "Fix Validity problem to df column `timestamp` using pd.to_datetime."
   ]
  },
  {
   "cell_type": "markdown",
   "metadata": {},
   "source": [
    "#### Code ####"
   ]
  },
  {
   "cell_type": "code",
   "execution_count": 45,
   "metadata": {},
   "outputs": [],
   "source": [
    "df_clean['timestamp'] = pd.to_datetime(df_clean['timestamp'])"
   ]
  },
  {
   "cell_type": "markdown",
   "metadata": {},
   "source": [
    "#### Test ####"
   ]
  },
  {
   "cell_type": "code",
   "execution_count": 46,
   "metadata": {},
   "outputs": [
    {
     "data": {
      "text/plain": [
       "tweet_id                            int64\n",
       "timestamp             datetime64[ns, UTC]\n",
       "text                               object\n",
       "rating_numerator                    int64\n",
       "rating_denominator                  int64\n",
       "name                               object\n",
       "doggo                              object\n",
       "floofer                            object\n",
       "pupper                             object\n",
       "puppo                              object\n",
       "dtype: object"
      ]
     },
     "execution_count": 46,
     "metadata": {},
     "output_type": "execute_result"
    }
   ],
   "source": [
    "# ok\n",
    "df_clean.dtypes "
   ]
  },
  {
   "cell_type": "markdown",
   "metadata": {},
   "source": [
    "### Accuracy ###"
   ]
  },
  {
   "cell_type": "markdown",
   "metadata": {},
   "source": [
    "#### Define ####"
   ]
  },
  {
   "cell_type": "markdown",
   "metadata": {},
   "source": [
    "Merge first the df_clean and df_image_clean data datasets, then merge these two with the df_api.\n",
    "Use pd.merge with the parameter how = 'inner' to keep only what is common for both (left and right datasets)"
   ]
  },
  {
   "cell_type": "markdown",
   "metadata": {},
   "source": [
    "#### Code ####"
   ]
  },
  {
   "cell_type": "code",
   "execution_count": 47,
   "metadata": {},
   "outputs": [],
   "source": [
    "df_main_image = pd.merge(df_clean, df_image_clean, on = 'tweet_id', how = 'inner') "
   ]
  },
  {
   "cell_type": "markdown",
   "metadata": {},
   "source": [
    "**Test**"
   ]
  },
  {
   "cell_type": "code",
   "execution_count": 48,
   "metadata": {},
   "outputs": [
    {
     "name": "stdout",
     "output_type": "stream",
     "text": [
      "<class 'pandas.core.frame.DataFrame'>\n",
      "Int64Index: 2075 entries, 0 to 2074\n",
      "Data columns (total 21 columns):\n",
      "tweet_id              2075 non-null int64\n",
      "timestamp             2075 non-null datetime64[ns, UTC]\n",
      "text                  2075 non-null object\n",
      "rating_numerator      2075 non-null int64\n",
      "rating_denominator    2075 non-null int64\n",
      "name                  2075 non-null object\n",
      "doggo                 2075 non-null object\n",
      "floofer               2075 non-null object\n",
      "pupper                2075 non-null object\n",
      "puppo                 2075 non-null object\n",
      "jpg_url               2075 non-null object\n",
      "img_num               2075 non-null int64\n",
      "p1                    2075 non-null object\n",
      "p1_conf               2075 non-null float64\n",
      "p1_dog                2075 non-null bool\n",
      "p2                    2075 non-null object\n",
      "p2_conf               2075 non-null float64\n",
      "p2_dog                2075 non-null bool\n",
      "p3                    2075 non-null object\n",
      "p3_conf               2075 non-null float64\n",
      "p3_dog                2075 non-null bool\n",
      "dtypes: bool(3), datetime64[ns, UTC](1), float64(3), int64(4), object(10)\n",
      "memory usage: 314.1+ KB\n"
     ]
    }
   ],
   "source": [
    "df_main_image.info()"
   ]
  },
  {
   "cell_type": "markdown",
   "metadata": {},
   "source": [
    "Now we have 2075 entries, those records that didn't match in df and df_image dataframes were discarded."
   ]
  },
  {
   "cell_type": "markdown",
   "metadata": {},
   "source": [
    "**Define**"
   ]
  },
  {
   "cell_type": "markdown",
   "metadata": {},
   "source": [
    "Now merge df_main_image with df_api data frame, once again we're interested in records where images, retweet count and favorite count matches with `tweet_id` of the others columns (`rating_numerator`, `rating_denominator`, etc). For this the parameter how = 'inner' in the pd.merge Pandas method. "
   ]
  },
  {
   "cell_type": "markdown",
   "metadata": {},
   "source": [
    "**Code**"
   ]
  },
  {
   "cell_type": "code",
   "execution_count": 49,
   "metadata": {},
   "outputs": [
    {
     "data": {
      "text/plain": [
       "2061"
      ]
     },
     "execution_count": 49,
     "metadata": {},
     "output_type": "execute_result"
    }
   ],
   "source": [
    "sum(df_api_clean['tweet_id'].isin(df_main_image['tweet_id']) == True)"
   ]
  },
  {
   "cell_type": "code",
   "execution_count": 50,
   "metadata": {},
   "outputs": [],
   "source": [
    "df_twitter = pd.merge(df_main_image, df_api_clean, on = 'tweet_id', how = 'inner')"
   ]
  },
  {
   "cell_type": "markdown",
   "metadata": {},
   "source": [
    "**Test**"
   ]
  },
  {
   "cell_type": "code",
   "execution_count": 51,
   "metadata": {},
   "outputs": [
    {
     "name": "stdout",
     "output_type": "stream",
     "text": [
      "<class 'pandas.core.frame.DataFrame'>\n",
      "Int64Index: 2061 entries, 0 to 2060\n",
      "Data columns (total 23 columns):\n",
      "tweet_id              2061 non-null int64\n",
      "timestamp             2061 non-null datetime64[ns, UTC]\n",
      "text                  2061 non-null object\n",
      "rating_numerator      2061 non-null int64\n",
      "rating_denominator    2061 non-null int64\n",
      "name                  2061 non-null object\n",
      "doggo                 2061 non-null object\n",
      "floofer               2061 non-null object\n",
      "pupper                2061 non-null object\n",
      "puppo                 2061 non-null object\n",
      "jpg_url               2061 non-null object\n",
      "img_num               2061 non-null int64\n",
      "p1                    2061 non-null object\n",
      "p1_conf               2061 non-null float64\n",
      "p1_dog                2061 non-null bool\n",
      "p2                    2061 non-null object\n",
      "p2_conf               2061 non-null float64\n",
      "p2_dog                2061 non-null bool\n",
      "p3                    2061 non-null object\n",
      "p3_conf               2061 non-null float64\n",
      "p3_dog                2061 non-null bool\n",
      "favorites_count       2061 non-null int64\n",
      "retweets_count        2061 non-null int64\n",
      "dtypes: bool(3), datetime64[ns, UTC](1), float64(3), int64(6), object(10)\n",
      "memory usage: 344.2+ KB\n"
     ]
    }
   ],
   "source": [
    "df_twitter.info()"
   ]
  },
  {
   "cell_type": "markdown",
   "metadata": {},
   "source": [
    "Now we have the 2061 entries that have all the information that matches at `tweet_id`, `rating_numerator`, `rating_denominator`, `name`, `dog_stage`, also have an image in the tweet and have "
   ]
  },
  {
   "cell_type": "markdown",
   "metadata": {},
   "source": [
    "**Define**"
   ]
  },
  {
   "cell_type": "markdown",
   "metadata": {},
   "source": [
    "Change the variable type to `tweet_id` column using .astype(str)"
   ]
  },
  {
   "cell_type": "markdown",
   "metadata": {},
   "source": [
    "**Code**"
   ]
  },
  {
   "cell_type": "code",
   "execution_count": 52,
   "metadata": {},
   "outputs": [],
   "source": [
    "df_twitter['tweet_id'] = df_twitter['tweet_id'].astype(str) "
   ]
  },
  {
   "cell_type": "markdown",
   "metadata": {},
   "source": [
    "**Test**"
   ]
  },
  {
   "cell_type": "code",
   "execution_count": 53,
   "metadata": {},
   "outputs": [
    {
     "name": "stdout",
     "output_type": "stream",
     "text": [
      "<class 'pandas.core.frame.DataFrame'>\n",
      "Int64Index: 2061 entries, 0 to 2060\n",
      "Data columns (total 23 columns):\n",
      "tweet_id              2061 non-null object\n",
      "timestamp             2061 non-null datetime64[ns, UTC]\n",
      "text                  2061 non-null object\n",
      "rating_numerator      2061 non-null int64\n",
      "rating_denominator    2061 non-null int64\n",
      "name                  2061 non-null object\n",
      "doggo                 2061 non-null object\n",
      "floofer               2061 non-null object\n",
      "pupper                2061 non-null object\n",
      "puppo                 2061 non-null object\n",
      "jpg_url               2061 non-null object\n",
      "img_num               2061 non-null int64\n",
      "p1                    2061 non-null object\n",
      "p1_conf               2061 non-null float64\n",
      "p1_dog                2061 non-null bool\n",
      "p2                    2061 non-null object\n",
      "p2_conf               2061 non-null float64\n",
      "p2_dog                2061 non-null bool\n",
      "p3                    2061 non-null object\n",
      "p3_conf               2061 non-null float64\n",
      "p3_dog                2061 non-null bool\n",
      "favorites_count       2061 non-null int64\n",
      "retweets_count        2061 non-null int64\n",
      "dtypes: bool(3), datetime64[ns, UTC](1), float64(3), int64(5), object(11)\n",
      "memory usage: 344.2+ KB\n"
     ]
    }
   ],
   "source": [
    "df_twitter.info()"
   ]
  },
  {
   "cell_type": "markdown",
   "metadata": {},
   "source": [
    "**Define**"
   ]
  },
  {
   "cell_type": "markdown",
   "metadata": {},
   "source": [
    "- Correct manually the records where there are more than one dog in the image\n",
    "- Drop the records with strange rates "
   ]
  },
  {
   "cell_type": "markdown",
   "metadata": {},
   "source": [
    "**Code**"
   ]
  },
  {
   "cell_type": "code",
   "execution_count": 54,
   "metadata": {},
   "outputs": [
    {
     "data": {
      "text/plain": [
       "19"
      ]
     },
     "execution_count": 54,
     "metadata": {},
     "output_type": "execute_result"
    }
   ],
   "source": [
    "df_twitter[df_twitter['rating_numerator'] > 20].shape[0]"
   ]
  },
  {
   "cell_type": "code",
   "execution_count": 55,
   "metadata": {},
   "outputs": [
    {
     "data": {
      "text/html": [
       "<div>\n",
       "<style scoped>\n",
       "    .dataframe tbody tr th:only-of-type {\n",
       "        vertical-align: middle;\n",
       "    }\n",
       "\n",
       "    .dataframe tbody tr th {\n",
       "        vertical-align: top;\n",
       "    }\n",
       "\n",
       "    .dataframe thead th {\n",
       "        text-align: right;\n",
       "    }\n",
       "</style>\n",
       "<table border=\"1\" class=\"dataframe\">\n",
       "  <thead>\n",
       "    <tr style=\"text-align: right;\">\n",
       "      <th></th>\n",
       "      <th>tweet_id</th>\n",
       "      <th>timestamp</th>\n",
       "      <th>text</th>\n",
       "      <th>rating_numerator</th>\n",
       "      <th>rating_denominator</th>\n",
       "      <th>name</th>\n",
       "      <th>doggo</th>\n",
       "      <th>floofer</th>\n",
       "      <th>pupper</th>\n",
       "      <th>puppo</th>\n",
       "      <th>...</th>\n",
       "      <th>p1_conf</th>\n",
       "      <th>p1_dog</th>\n",
       "      <th>p2</th>\n",
       "      <th>p2_conf</th>\n",
       "      <th>p2_dog</th>\n",
       "      <th>p3</th>\n",
       "      <th>p3_conf</th>\n",
       "      <th>p3_dog</th>\n",
       "      <th>favorites_count</th>\n",
       "      <th>retweets_count</th>\n",
       "    </tr>\n",
       "  </thead>\n",
       "  <tbody>\n",
       "    <tr>\n",
       "      <th>336</th>\n",
       "      <td>820690176645140481</td>\n",
       "      <td>2017-01-15 17:52:40+00:00</td>\n",
       "      <td>The floofs have been released I repeat the flo...</td>\n",
       "      <td>84</td>\n",
       "      <td>70</td>\n",
       "      <td>None</td>\n",
       "      <td>None</td>\n",
       "      <td>None</td>\n",
       "      <td>None</td>\n",
       "      <td>None</td>\n",
       "      <td>...</td>\n",
       "      <td>0.872064</td>\n",
       "      <td>True</td>\n",
       "      <td>kuvasz</td>\n",
       "      <td>0.059526</td>\n",
       "      <td>True</td>\n",
       "      <td>Samoyed</td>\n",
       "      <td>0.037400</td>\n",
       "      <td>True</td>\n",
       "      <td>12676</td>\n",
       "      <td>3375</td>\n",
       "    </tr>\n",
       "    <tr>\n",
       "      <th>406</th>\n",
       "      <td>810984652412424192</td>\n",
       "      <td>2016-12-19 23:06:23+00:00</td>\n",
       "      <td>Meet Sam. She smiles 24/7 &amp;amp; secretly aspir...</td>\n",
       "      <td>24</td>\n",
       "      <td>7</td>\n",
       "      <td>Sam</td>\n",
       "      <td>None</td>\n",
       "      <td>None</td>\n",
       "      <td>None</td>\n",
       "      <td>None</td>\n",
       "      <td>...</td>\n",
       "      <td>0.871342</td>\n",
       "      <td>True</td>\n",
       "      <td>Tibetan_mastiff</td>\n",
       "      <td>0.036708</td>\n",
       "      <td>True</td>\n",
       "      <td>Labrador_retriever</td>\n",
       "      <td>0.025823</td>\n",
       "      <td>True</td>\n",
       "      <td>5579</td>\n",
       "      <td>1519</td>\n",
       "    </tr>\n",
       "    <tr>\n",
       "      <th>548</th>\n",
       "      <td>786709082849828864</td>\n",
       "      <td>2016-10-13 23:23:56+00:00</td>\n",
       "      <td>This is Logan, the Chow who lived. He solemnly...</td>\n",
       "      <td>75</td>\n",
       "      <td>10</td>\n",
       "      <td>Logan</td>\n",
       "      <td>None</td>\n",
       "      <td>None</td>\n",
       "      <td>None</td>\n",
       "      <td>None</td>\n",
       "      <td>...</td>\n",
       "      <td>0.467321</td>\n",
       "      <td>True</td>\n",
       "      <td>Persian_cat</td>\n",
       "      <td>0.122978</td>\n",
       "      <td>False</td>\n",
       "      <td>chow</td>\n",
       "      <td>0.102654</td>\n",
       "      <td>True</td>\n",
       "      <td>19062</td>\n",
       "      <td>6428</td>\n",
       "    </tr>\n",
       "    <tr>\n",
       "      <th>603</th>\n",
       "      <td>778027034220126208</td>\n",
       "      <td>2016-09-20 00:24:34+00:00</td>\n",
       "      <td>This is Sophie. She's a Jubilant Bush Pupper. ...</td>\n",
       "      <td>27</td>\n",
       "      <td>10</td>\n",
       "      <td>Sophie</td>\n",
       "      <td>None</td>\n",
       "      <td>None</td>\n",
       "      <td>pupper</td>\n",
       "      <td>None</td>\n",
       "      <td>...</td>\n",
       "      <td>0.946718</td>\n",
       "      <td>True</td>\n",
       "      <td>cocker_spaniel</td>\n",
       "      <td>0.015950</td>\n",
       "      <td>True</td>\n",
       "      <td>Lhasa</td>\n",
       "      <td>0.006519</td>\n",
       "      <td>True</td>\n",
       "      <td>6824</td>\n",
       "      <td>1698</td>\n",
       "    </tr>\n",
       "    <tr>\n",
       "      <th>724</th>\n",
       "      <td>758467244762497024</td>\n",
       "      <td>2016-07-28 01:00:57+00:00</td>\n",
       "      <td>Why does this never happen at my front door......</td>\n",
       "      <td>165</td>\n",
       "      <td>150</td>\n",
       "      <td>None</td>\n",
       "      <td>None</td>\n",
       "      <td>None</td>\n",
       "      <td>None</td>\n",
       "      <td>None</td>\n",
       "      <td>...</td>\n",
       "      <td>0.436377</td>\n",
       "      <td>True</td>\n",
       "      <td>Chihuahua</td>\n",
       "      <td>0.113956</td>\n",
       "      <td>True</td>\n",
       "      <td>American_Staffordshire_terrier</td>\n",
       "      <td>0.099689</td>\n",
       "      <td>True</td>\n",
       "      <td>4961</td>\n",
       "      <td>2304</td>\n",
       "    </tr>\n",
       "    <tr>\n",
       "      <th>791</th>\n",
       "      <td>749981277374128128</td>\n",
       "      <td>2016-07-04 15:00:45+00:00</td>\n",
       "      <td>This is Atticus. He's quite simply America af....</td>\n",
       "      <td>1776</td>\n",
       "      <td>10</td>\n",
       "      <td>Atticus</td>\n",
       "      <td>None</td>\n",
       "      <td>None</td>\n",
       "      <td>None</td>\n",
       "      <td>None</td>\n",
       "      <td>...</td>\n",
       "      <td>0.533941</td>\n",
       "      <td>False</td>\n",
       "      <td>sunglasses</td>\n",
       "      <td>0.080822</td>\n",
       "      <td>False</td>\n",
       "      <td>sunglass</td>\n",
       "      <td>0.050776</td>\n",
       "      <td>False</td>\n",
       "      <td>5258</td>\n",
       "      <td>2531</td>\n",
       "    </tr>\n",
       "    <tr>\n",
       "      <th>913</th>\n",
       "      <td>731156023742988288</td>\n",
       "      <td>2016-05-13 16:15:54+00:00</td>\n",
       "      <td>Say hello to this unbelievably well behaved sq...</td>\n",
       "      <td>204</td>\n",
       "      <td>170</td>\n",
       "      <td>this</td>\n",
       "      <td>None</td>\n",
       "      <td>None</td>\n",
       "      <td>None</td>\n",
       "      <td>None</td>\n",
       "      <td>...</td>\n",
       "      <td>0.501767</td>\n",
       "      <td>False</td>\n",
       "      <td>breakwater</td>\n",
       "      <td>0.051351</td>\n",
       "      <td>False</td>\n",
       "      <td>king_penguin</td>\n",
       "      <td>0.049444</td>\n",
       "      <td>False</td>\n",
       "      <td>3914</td>\n",
       "      <td>1297</td>\n",
       "    </tr>\n",
       "    <tr>\n",
       "      <th>990</th>\n",
       "      <td>716439118184652801</td>\n",
       "      <td>2016-04-03 01:36:11+00:00</td>\n",
       "      <td>This is Bluebert. He just saw that both #Final...</td>\n",
       "      <td>50</td>\n",
       "      <td>50</td>\n",
       "      <td>Bluebert</td>\n",
       "      <td>None</td>\n",
       "      <td>None</td>\n",
       "      <td>None</td>\n",
       "      <td>None</td>\n",
       "      <td>...</td>\n",
       "      <td>0.396495</td>\n",
       "      <td>True</td>\n",
       "      <td>malamute</td>\n",
       "      <td>0.317053</td>\n",
       "      <td>True</td>\n",
       "      <td>Eskimo_dog</td>\n",
       "      <td>0.273419</td>\n",
       "      <td>True</td>\n",
       "      <td>2421</td>\n",
       "      <td>214</td>\n",
       "    </tr>\n",
       "    <tr>\n",
       "      <th>1011</th>\n",
       "      <td>713900603437621249</td>\n",
       "      <td>2016-03-27 01:29:02+00:00</td>\n",
       "      <td>Happy Saturday here's 9 puppers on a bench. 99...</td>\n",
       "      <td>99</td>\n",
       "      <td>90</td>\n",
       "      <td>None</td>\n",
       "      <td>None</td>\n",
       "      <td>None</td>\n",
       "      <td>None</td>\n",
       "      <td>None</td>\n",
       "      <td>...</td>\n",
       "      <td>0.371816</td>\n",
       "      <td>True</td>\n",
       "      <td>cocker_spaniel</td>\n",
       "      <td>0.177413</td>\n",
       "      <td>True</td>\n",
       "      <td>Irish_setter</td>\n",
       "      <td>0.092725</td>\n",
       "      <td>True</td>\n",
       "      <td>2900</td>\n",
       "      <td>755</td>\n",
       "    </tr>\n",
       "    <tr>\n",
       "      <th>1036</th>\n",
       "      <td>710658690886586372</td>\n",
       "      <td>2016-03-18 02:46:49+00:00</td>\n",
       "      <td>Here's a brigade of puppers. All look very pre...</td>\n",
       "      <td>80</td>\n",
       "      <td>80</td>\n",
       "      <td>None</td>\n",
       "      <td>None</td>\n",
       "      <td>None</td>\n",
       "      <td>None</td>\n",
       "      <td>None</td>\n",
       "      <td>...</td>\n",
       "      <td>0.948617</td>\n",
       "      <td>True</td>\n",
       "      <td>Dandie_Dinmont</td>\n",
       "      <td>0.018664</td>\n",
       "      <td>True</td>\n",
       "      <td>cairn</td>\n",
       "      <td>0.015943</td>\n",
       "      <td>True</td>\n",
       "      <td>2363</td>\n",
       "      <td>572</td>\n",
       "    </tr>\n",
       "    <tr>\n",
       "      <th>1054</th>\n",
       "      <td>709198395643068416</td>\n",
       "      <td>2016-03-14 02:04:08+00:00</td>\n",
       "      <td>From left to right:\\nCletus, Jerome, Alejandro...</td>\n",
       "      <td>45</td>\n",
       "      <td>50</td>\n",
       "      <td>None</td>\n",
       "      <td>None</td>\n",
       "      <td>None</td>\n",
       "      <td>None</td>\n",
       "      <td>None</td>\n",
       "      <td>...</td>\n",
       "      <td>0.490783</td>\n",
       "      <td>True</td>\n",
       "      <td>wire-haired_fox_terrier</td>\n",
       "      <td>0.083513</td>\n",
       "      <td>True</td>\n",
       "      <td>English_setter</td>\n",
       "      <td>0.083184</td>\n",
       "      <td>True</td>\n",
       "      <td>2480</td>\n",
       "      <td>659</td>\n",
       "    </tr>\n",
       "    <tr>\n",
       "      <th>1120</th>\n",
       "      <td>704054845121142784</td>\n",
       "      <td>2016-02-28 21:25:30+00:00</td>\n",
       "      <td>Here is a whole flock of puppers.  60/50 I'll ...</td>\n",
       "      <td>60</td>\n",
       "      <td>50</td>\n",
       "      <td>a</td>\n",
       "      <td>None</td>\n",
       "      <td>None</td>\n",
       "      <td>None</td>\n",
       "      <td>None</td>\n",
       "      <td>...</td>\n",
       "      <td>0.667939</td>\n",
       "      <td>True</td>\n",
       "      <td>kuvasz</td>\n",
       "      <td>0.228764</td>\n",
       "      <td>True</td>\n",
       "      <td>golden_retriever</td>\n",
       "      <td>0.043885</td>\n",
       "      <td>True</td>\n",
       "      <td>2998</td>\n",
       "      <td>930</td>\n",
       "    </tr>\n",
       "    <tr>\n",
       "      <th>1196</th>\n",
       "      <td>697463031882764288</td>\n",
       "      <td>2016-02-10 16:51:59+00:00</td>\n",
       "      <td>Happy Wednesday here's a bucket of pups. 44/40...</td>\n",
       "      <td>44</td>\n",
       "      <td>40</td>\n",
       "      <td>None</td>\n",
       "      <td>None</td>\n",
       "      <td>None</td>\n",
       "      <td>None</td>\n",
       "      <td>None</td>\n",
       "      <td>...</td>\n",
       "      <td>0.999885</td>\n",
       "      <td>True</td>\n",
       "      <td>golden_retriever</td>\n",
       "      <td>0.000098</td>\n",
       "      <td>True</td>\n",
       "      <td>pug</td>\n",
       "      <td>0.000008</td>\n",
       "      <td>True</td>\n",
       "      <td>3496</td>\n",
       "      <td>1421</td>\n",
       "    </tr>\n",
       "    <tr>\n",
       "      <th>1368</th>\n",
       "      <td>684225744407494656</td>\n",
       "      <td>2016-01-05 04:11:44+00:00</td>\n",
       "      <td>Two sneaky puppers were not initially seen, mo...</td>\n",
       "      <td>143</td>\n",
       "      <td>130</td>\n",
       "      <td>None</td>\n",
       "      <td>None</td>\n",
       "      <td>None</td>\n",
       "      <td>None</td>\n",
       "      <td>None</td>\n",
       "      <td>...</td>\n",
       "      <td>0.203249</td>\n",
       "      <td>True</td>\n",
       "      <td>Samoyed</td>\n",
       "      <td>0.067958</td>\n",
       "      <td>True</td>\n",
       "      <td>Great_Pyrenees</td>\n",
       "      <td>0.065327</td>\n",
       "      <td>True</td>\n",
       "      <td>1263</td>\n",
       "      <td>214</td>\n",
       "    </tr>\n",
       "    <tr>\n",
       "      <th>1369</th>\n",
       "      <td>684222868335505415</td>\n",
       "      <td>2016-01-05 04:00:18+00:00</td>\n",
       "      <td>Someone help the girl is being mugged. Several...</td>\n",
       "      <td>121</td>\n",
       "      <td>110</td>\n",
       "      <td>None</td>\n",
       "      <td>None</td>\n",
       "      <td>None</td>\n",
       "      <td>None</td>\n",
       "      <td>None</td>\n",
       "      <td>...</td>\n",
       "      <td>0.791182</td>\n",
       "      <td>True</td>\n",
       "      <td>cocker_spaniel</td>\n",
       "      <td>0.072444</td>\n",
       "      <td>True</td>\n",
       "      <td>teddy</td>\n",
       "      <td>0.071486</td>\n",
       "      <td>False</td>\n",
       "      <td>3923</td>\n",
       "      <td>1406</td>\n",
       "    </tr>\n",
       "    <tr>\n",
       "      <th>1440</th>\n",
       "      <td>680494726643068929</td>\n",
       "      <td>2015-12-25 21:06:00+00:00</td>\n",
       "      <td>Here we have uncovered an entire battalion of ...</td>\n",
       "      <td>26</td>\n",
       "      <td>10</td>\n",
       "      <td>None</td>\n",
       "      <td>None</td>\n",
       "      <td>None</td>\n",
       "      <td>None</td>\n",
       "      <td>None</td>\n",
       "      <td>...</td>\n",
       "      <td>0.438627</td>\n",
       "      <td>True</td>\n",
       "      <td>Samoyed</td>\n",
       "      <td>0.111622</td>\n",
       "      <td>True</td>\n",
       "      <td>Great_Pyrenees</td>\n",
       "      <td>0.064061</td>\n",
       "      <td>True</td>\n",
       "      <td>1760</td>\n",
       "      <td>495</td>\n",
       "    </tr>\n",
       "    <tr>\n",
       "      <th>1500</th>\n",
       "      <td>677716515794329600</td>\n",
       "      <td>2015-12-18 05:06:23+00:00</td>\n",
       "      <td>IT'S PUPPERGEDDON. Total of 144/120 ...I think...</td>\n",
       "      <td>144</td>\n",
       "      <td>120</td>\n",
       "      <td>None</td>\n",
       "      <td>None</td>\n",
       "      <td>None</td>\n",
       "      <td>None</td>\n",
       "      <td>None</td>\n",
       "      <td>...</td>\n",
       "      <td>0.662908</td>\n",
       "      <td>False</td>\n",
       "      <td>crib</td>\n",
       "      <td>0.031891</td>\n",
       "      <td>False</td>\n",
       "      <td>chow</td>\n",
       "      <td>0.025438</td>\n",
       "      <td>True</td>\n",
       "      <td>3106</td>\n",
       "      <td>989</td>\n",
       "    </tr>\n",
       "    <tr>\n",
       "      <th>1559</th>\n",
       "      <td>675853064436391936</td>\n",
       "      <td>2015-12-13 01:41:41+00:00</td>\n",
       "      <td>Here we have an entire platoon of puppers. Tot...</td>\n",
       "      <td>88</td>\n",
       "      <td>80</td>\n",
       "      <td>None</td>\n",
       "      <td>None</td>\n",
       "      <td>None</td>\n",
       "      <td>None</td>\n",
       "      <td>None</td>\n",
       "      <td>...</td>\n",
       "      <td>0.868367</td>\n",
       "      <td>True</td>\n",
       "      <td>golden_retriever</td>\n",
       "      <td>0.043305</td>\n",
       "      <td>True</td>\n",
       "      <td>vizsla</td>\n",
       "      <td>0.028207</td>\n",
       "      <td>True</td>\n",
       "      <td>2704</td>\n",
       "      <td>1305</td>\n",
       "    </tr>\n",
       "    <tr>\n",
       "      <th>1783</th>\n",
       "      <td>670842764863651840</td>\n",
       "      <td>2015-11-29 05:52:33+00:00</td>\n",
       "      <td>After so many requests... here you go.\\n\\nGood...</td>\n",
       "      <td>420</td>\n",
       "      <td>10</td>\n",
       "      <td>None</td>\n",
       "      <td>None</td>\n",
       "      <td>None</td>\n",
       "      <td>None</td>\n",
       "      <td>None</td>\n",
       "      <td>...</td>\n",
       "      <td>0.096063</td>\n",
       "      <td>False</td>\n",
       "      <td>accordion</td>\n",
       "      <td>0.094075</td>\n",
       "      <td>False</td>\n",
       "      <td>drumstick</td>\n",
       "      <td>0.061113</td>\n",
       "      <td>False</td>\n",
       "      <td>24366</td>\n",
       "      <td>8585</td>\n",
       "    </tr>\n",
       "  </tbody>\n",
       "</table>\n",
       "<p>19 rows × 23 columns</p>\n",
       "</div>"
      ],
      "text/plain": [
       "                tweet_id                 timestamp  \\\n",
       "336   820690176645140481 2017-01-15 17:52:40+00:00   \n",
       "406   810984652412424192 2016-12-19 23:06:23+00:00   \n",
       "548   786709082849828864 2016-10-13 23:23:56+00:00   \n",
       "603   778027034220126208 2016-09-20 00:24:34+00:00   \n",
       "724   758467244762497024 2016-07-28 01:00:57+00:00   \n",
       "791   749981277374128128 2016-07-04 15:00:45+00:00   \n",
       "913   731156023742988288 2016-05-13 16:15:54+00:00   \n",
       "990   716439118184652801 2016-04-03 01:36:11+00:00   \n",
       "1011  713900603437621249 2016-03-27 01:29:02+00:00   \n",
       "1036  710658690886586372 2016-03-18 02:46:49+00:00   \n",
       "1054  709198395643068416 2016-03-14 02:04:08+00:00   \n",
       "1120  704054845121142784 2016-02-28 21:25:30+00:00   \n",
       "1196  697463031882764288 2016-02-10 16:51:59+00:00   \n",
       "1368  684225744407494656 2016-01-05 04:11:44+00:00   \n",
       "1369  684222868335505415 2016-01-05 04:00:18+00:00   \n",
       "1440  680494726643068929 2015-12-25 21:06:00+00:00   \n",
       "1500  677716515794329600 2015-12-18 05:06:23+00:00   \n",
       "1559  675853064436391936 2015-12-13 01:41:41+00:00   \n",
       "1783  670842764863651840 2015-11-29 05:52:33+00:00   \n",
       "\n",
       "                                                   text  rating_numerator  \\\n",
       "336   The floofs have been released I repeat the flo...                84   \n",
       "406   Meet Sam. She smiles 24/7 &amp; secretly aspir...                24   \n",
       "548   This is Logan, the Chow who lived. He solemnly...                75   \n",
       "603   This is Sophie. She's a Jubilant Bush Pupper. ...                27   \n",
       "724   Why does this never happen at my front door......               165   \n",
       "791   This is Atticus. He's quite simply America af....              1776   \n",
       "913   Say hello to this unbelievably well behaved sq...               204   \n",
       "990   This is Bluebert. He just saw that both #Final...                50   \n",
       "1011  Happy Saturday here's 9 puppers on a bench. 99...                99   \n",
       "1036  Here's a brigade of puppers. All look very pre...                80   \n",
       "1054  From left to right:\\nCletus, Jerome, Alejandro...                45   \n",
       "1120  Here is a whole flock of puppers.  60/50 I'll ...                60   \n",
       "1196  Happy Wednesday here's a bucket of pups. 44/40...                44   \n",
       "1368  Two sneaky puppers were not initially seen, mo...               143   \n",
       "1369  Someone help the girl is being mugged. Several...               121   \n",
       "1440  Here we have uncovered an entire battalion of ...                26   \n",
       "1500  IT'S PUPPERGEDDON. Total of 144/120 ...I think...               144   \n",
       "1559  Here we have an entire platoon of puppers. Tot...                88   \n",
       "1783  After so many requests... here you go.\\n\\nGood...               420   \n",
       "\n",
       "      rating_denominator      name doggo floofer  pupper puppo  ...   p1_conf  \\\n",
       "336                   70      None  None    None    None  None  ...  0.872064   \n",
       "406                    7       Sam  None    None    None  None  ...  0.871342   \n",
       "548                   10     Logan  None    None    None  None  ...  0.467321   \n",
       "603                   10    Sophie  None    None  pupper  None  ...  0.946718   \n",
       "724                  150      None  None    None    None  None  ...  0.436377   \n",
       "791                   10   Atticus  None    None    None  None  ...  0.533941   \n",
       "913                  170      this  None    None    None  None  ...  0.501767   \n",
       "990                   50  Bluebert  None    None    None  None  ...  0.396495   \n",
       "1011                  90      None  None    None    None  None  ...  0.371816   \n",
       "1036                  80      None  None    None    None  None  ...  0.948617   \n",
       "1054                  50      None  None    None    None  None  ...  0.490783   \n",
       "1120                  50         a  None    None    None  None  ...  0.667939   \n",
       "1196                  40      None  None    None    None  None  ...  0.999885   \n",
       "1368                 130      None  None    None    None  None  ...  0.203249   \n",
       "1369                 110      None  None    None    None  None  ...  0.791182   \n",
       "1440                  10      None  None    None    None  None  ...  0.438627   \n",
       "1500                 120      None  None    None    None  None  ...  0.662908   \n",
       "1559                  80      None  None    None    None  None  ...  0.868367   \n",
       "1783                  10      None  None    None    None  None  ...  0.096063   \n",
       "\n",
       "      p1_dog                       p2   p2_conf  p2_dog  \\\n",
       "336     True                   kuvasz  0.059526    True   \n",
       "406     True          Tibetan_mastiff  0.036708    True   \n",
       "548     True              Persian_cat  0.122978   False   \n",
       "603     True           cocker_spaniel  0.015950    True   \n",
       "724     True                Chihuahua  0.113956    True   \n",
       "791    False               sunglasses  0.080822   False   \n",
       "913    False               breakwater  0.051351   False   \n",
       "990     True                 malamute  0.317053    True   \n",
       "1011    True           cocker_spaniel  0.177413    True   \n",
       "1036    True           Dandie_Dinmont  0.018664    True   \n",
       "1054    True  wire-haired_fox_terrier  0.083513    True   \n",
       "1120    True                   kuvasz  0.228764    True   \n",
       "1196    True         golden_retriever  0.000098    True   \n",
       "1368    True                  Samoyed  0.067958    True   \n",
       "1369    True           cocker_spaniel  0.072444    True   \n",
       "1440    True                  Samoyed  0.111622    True   \n",
       "1500   False                     crib  0.031891   False   \n",
       "1559    True         golden_retriever  0.043305    True   \n",
       "1783   False                accordion  0.094075   False   \n",
       "\n",
       "                                  p3   p3_conf  p3_dog favorites_count  \\\n",
       "336                          Samoyed  0.037400    True           12676   \n",
       "406               Labrador_retriever  0.025823    True            5579   \n",
       "548                             chow  0.102654    True           19062   \n",
       "603                            Lhasa  0.006519    True            6824   \n",
       "724   American_Staffordshire_terrier  0.099689    True            4961   \n",
       "791                         sunglass  0.050776   False            5258   \n",
       "913                     king_penguin  0.049444   False            3914   \n",
       "990                       Eskimo_dog  0.273419    True            2421   \n",
       "1011                    Irish_setter  0.092725    True            2900   \n",
       "1036                           cairn  0.015943    True            2363   \n",
       "1054                  English_setter  0.083184    True            2480   \n",
       "1120                golden_retriever  0.043885    True            2998   \n",
       "1196                             pug  0.000008    True            3496   \n",
       "1368                  Great_Pyrenees  0.065327    True            1263   \n",
       "1369                           teddy  0.071486   False            3923   \n",
       "1440                  Great_Pyrenees  0.064061    True            1760   \n",
       "1500                            chow  0.025438    True            3106   \n",
       "1559                          vizsla  0.028207    True            2704   \n",
       "1783                       drumstick  0.061113   False           24366   \n",
       "\n",
       "      retweets_count  \n",
       "336             3375  \n",
       "406             1519  \n",
       "548             6428  \n",
       "603             1698  \n",
       "724             2304  \n",
       "791             2531  \n",
       "913             1297  \n",
       "990              214  \n",
       "1011             755  \n",
       "1036             572  \n",
       "1054             659  \n",
       "1120             930  \n",
       "1196            1421  \n",
       "1368             214  \n",
       "1369            1406  \n",
       "1440             495  \n",
       "1500             989  \n",
       "1559            1305  \n",
       "1783            8585  \n",
       "\n",
       "[19 rows x 23 columns]"
      ]
     },
     "execution_count": 55,
     "metadata": {},
     "output_type": "execute_result"
    }
   ],
   "source": [
    "df_twitter[df_twitter['rating_numerator'] > 20]"
   ]
  },
  {
   "cell_type": "code",
   "execution_count": 56,
   "metadata": {},
   "outputs": [],
   "source": [
    "# drop these records\n",
    "df_twitter.drop([406, 791, 1783], inplace = True)"
   ]
  },
  {
   "cell_type": "code",
   "execution_count": 57,
   "metadata": {},
   "outputs": [],
   "source": [
    "# fix manually wring values taken from the text (when the numerator is a decimal number)"
   ]
  },
  {
   "cell_type": "code",
   "execution_count": 58,
   "metadata": {},
   "outputs": [
    {
     "data": {
      "text/plain": [
       "\"This is Logan, the Chow who lived. He solemnly swears he's up to lots of good. H*ckin magical af 9.75/10 https://t.co/yBO5wuqaPS\""
      ]
     },
     "execution_count": 58,
     "metadata": {},
     "output_type": "execute_result"
    }
   ],
   "source": [
    "df_twitter['text'][548]"
   ]
  },
  {
   "cell_type": "code",
   "execution_count": 59,
   "metadata": {},
   "outputs": [
    {
     "data": {
      "text/plain": [
       "75"
      ]
     },
     "execution_count": 59,
     "metadata": {},
     "output_type": "execute_result"
    }
   ],
   "source": [
    "df_twitter['rating_numerator'][548]"
   ]
  },
  {
   "cell_type": "code",
   "execution_count": 60,
   "metadata": {},
   "outputs": [
    {
     "name": "stderr",
     "output_type": "stream",
     "text": [
      "/home/daniel/.pyenv/versions/3.6.0/envs/wrangling_data_3.6.0/lib/python3.6/site-packages/ipykernel_launcher.py:1: SettingWithCopyWarning: \n",
      "A value is trying to be set on a copy of a slice from a DataFrame\n",
      "\n",
      "See the caveats in the documentation: http://pandas.pydata.org/pandas-docs/stable/user_guide/indexing.html#returning-a-view-versus-a-copy\n",
      "  \"\"\"Entry point for launching an IPython kernel.\n"
     ]
    }
   ],
   "source": [
    "df_twitter['rating_numerator'][548] = 9.75"
   ]
  },
  {
   "cell_type": "code",
   "execution_count": 61,
   "metadata": {},
   "outputs": [
    {
     "data": {
      "text/plain": [
       "\"This is Sophie. She's a Jubilant Bush Pupper. Super h*ckin rare. Appears at random just to smile at the locals. 11.27/10 would smile back https://t.co/QFaUiIHxHq\""
      ]
     },
     "execution_count": 61,
     "metadata": {},
     "output_type": "execute_result"
    }
   ],
   "source": [
    "df_twitter['text'][603]"
   ]
  },
  {
   "cell_type": "code",
   "execution_count": 62,
   "metadata": {},
   "outputs": [
    {
     "data": {
      "text/plain": [
       "27"
      ]
     },
     "execution_count": 62,
     "metadata": {},
     "output_type": "execute_result"
    }
   ],
   "source": [
    "df_twitter['rating_numerator'][603]"
   ]
  },
  {
   "cell_type": "code",
   "execution_count": 63,
   "metadata": {},
   "outputs": [
    {
     "name": "stderr",
     "output_type": "stream",
     "text": [
      "/home/daniel/.pyenv/versions/3.6.0/envs/wrangling_data_3.6.0/lib/python3.6/site-packages/ipykernel_launcher.py:1: SettingWithCopyWarning: \n",
      "A value is trying to be set on a copy of a slice from a DataFrame\n",
      "\n",
      "See the caveats in the documentation: http://pandas.pydata.org/pandas-docs/stable/user_guide/indexing.html#returning-a-view-versus-a-copy\n",
      "  \"\"\"Entry point for launching an IPython kernel.\n"
     ]
    }
   ],
   "source": [
    "df_twitter['rating_numerator'][603] = 11.27"
   ]
  },
  {
   "cell_type": "code",
   "execution_count": 64,
   "metadata": {},
   "outputs": [
    {
     "data": {
      "text/plain": [
       "'Here we have uncovered an entire battalion of holiday puppers. Average of 11.26/10 https://t.co/eNm2S6p9BD'"
      ]
     },
     "execution_count": 64,
     "metadata": {},
     "output_type": "execute_result"
    }
   ],
   "source": [
    "df_twitter['text'][1440]"
   ]
  },
  {
   "cell_type": "code",
   "execution_count": 65,
   "metadata": {},
   "outputs": [
    {
     "data": {
      "text/plain": [
       "26"
      ]
     },
     "execution_count": 65,
     "metadata": {},
     "output_type": "execute_result"
    }
   ],
   "source": [
    "df_twitter['rating_numerator'][1440]"
   ]
  },
  {
   "cell_type": "code",
   "execution_count": 66,
   "metadata": {},
   "outputs": [
    {
     "name": "stderr",
     "output_type": "stream",
     "text": [
      "/home/daniel/.pyenv/versions/3.6.0/envs/wrangling_data_3.6.0/lib/python3.6/site-packages/ipykernel_launcher.py:1: SettingWithCopyWarning: \n",
      "A value is trying to be set on a copy of a slice from a DataFrame\n",
      "\n",
      "See the caveats in the documentation: http://pandas.pydata.org/pandas-docs/stable/user_guide/indexing.html#returning-a-view-versus-a-copy\n",
      "  \"\"\"Entry point for launching an IPython kernel.\n"
     ]
    }
   ],
   "source": [
    "df_twitter['rating_numerator'][1440] = 11.26"
   ]
  },
  {
   "cell_type": "code",
   "execution_count": 67,
   "metadata": {},
   "outputs": [],
   "source": [
    "# correct multiples ratings for 13 records"
   ]
  },
  {
   "cell_type": "code",
   "execution_count": 68,
   "metadata": {},
   "outputs": [
    {
     "data": {
      "text/plain": [
       "13"
      ]
     },
     "execution_count": 68,
     "metadata": {},
     "output_type": "execute_result"
    }
   ],
   "source": [
    "df_twitter[df_twitter['rating_numerator'] > 20].shape[0]"
   ]
  },
  {
   "cell_type": "code",
   "execution_count": 69,
   "metadata": {},
   "outputs": [
    {
     "data": {
      "text/plain": [
       "13"
      ]
     },
     "execution_count": 69,
     "metadata": {},
     "output_type": "execute_result"
    }
   ],
   "source": [
    "index_list = list(df_twitter[df_twitter['rating_numerator'] > 20].index)\n",
    "len(index_list)"
   ]
  },
  {
   "cell_type": "code",
   "execution_count": 70,
   "metadata": {},
   "outputs": [
    {
     "name": "stderr",
     "output_type": "stream",
     "text": [
      "/home/daniel/.pyenv/versions/3.6.0/envs/wrangling_data_3.6.0/lib/python3.6/site-packages/ipykernel_launcher.py:4: SettingWithCopyWarning: \n",
      "A value is trying to be set on a copy of a slice from a DataFrame\n",
      "\n",
      "See the caveats in the documentation: http://pandas.pydata.org/pandas-docs/stable/user_guide/indexing.html#returning-a-view-versus-a-copy\n",
      "  after removing the cwd from sys.path.\n",
      "/home/daniel/.pyenv/versions/3.6.0/envs/wrangling_data_3.6.0/lib/python3.6/site-packages/ipykernel_launcher.py:5: SettingWithCopyWarning: \n",
      "A value is trying to be set on a copy of a slice from a DataFrame\n",
      "\n",
      "See the caveats in the documentation: http://pandas.pydata.org/pandas-docs/stable/user_guide/indexing.html#returning-a-view-versus-a-copy\n",
      "  \"\"\"\n"
     ]
    }
   ],
   "source": [
    "for index in index_list:\n",
    "    if df_twitter['rating_denominator'][index] != 10:\n",
    "        multiple = df_twitter['rating_denominator'][index] / 10\n",
    "        df_twitter['rating_numerator'][index] = df_twitter['rating_numerator'][index] / multiple\n",
    "        df_twitter['rating_denominator'][index] = df_twitter['rating_denominator'][index] / multiple\n",
    "\n",
    "\n"
   ]
  },
  {
   "cell_type": "markdown",
   "metadata": {},
   "source": [
    "**Test**"
   ]
  },
  {
   "cell_type": "code",
   "execution_count": 71,
   "metadata": {},
   "outputs": [
    {
     "name": "stdout",
     "output_type": "stream",
     "text": [
      "<class 'pandas.core.frame.DataFrame'>\n",
      "Int64Index: 2058 entries, 0 to 2060\n",
      "Data columns (total 23 columns):\n",
      "tweet_id              2058 non-null object\n",
      "timestamp             2058 non-null datetime64[ns, UTC]\n",
      "text                  2058 non-null object\n",
      "rating_numerator      2058 non-null int64\n",
      "rating_denominator    2058 non-null int64\n",
      "name                  2058 non-null object\n",
      "doggo                 2058 non-null object\n",
      "floofer               2058 non-null object\n",
      "pupper                2058 non-null object\n",
      "puppo                 2058 non-null object\n",
      "jpg_url               2058 non-null object\n",
      "img_num               2058 non-null int64\n",
      "p1                    2058 non-null object\n",
      "p1_conf               2058 non-null float64\n",
      "p1_dog                2058 non-null bool\n",
      "p2                    2058 non-null object\n",
      "p2_conf               2058 non-null float64\n",
      "p2_dog                2058 non-null bool\n",
      "p3                    2058 non-null object\n",
      "p3_conf               2058 non-null float64\n",
      "p3_dog                2058 non-null bool\n",
      "favorites_count       2058 non-null int64\n",
      "retweets_count        2058 non-null int64\n",
      "dtypes: bool(3), datetime64[ns, UTC](1), float64(3), int64(5), object(11)\n",
      "memory usage: 423.7+ KB\n"
     ]
    }
   ],
   "source": [
    "df_twitter.info()"
   ]
  },
  {
   "cell_type": "code",
   "execution_count": 72,
   "metadata": {},
   "outputs": [
    {
     "data": {
      "text/plain": [
       "9"
      ]
     },
     "execution_count": 72,
     "metadata": {},
     "output_type": "execute_result"
    }
   ],
   "source": [
    "df_twitter['rating_numerator'][548] "
   ]
  },
  {
   "cell_type": "code",
   "execution_count": 73,
   "metadata": {},
   "outputs": [
    {
     "data": {
      "text/plain": [
       "11"
      ]
     },
     "execution_count": 73,
     "metadata": {},
     "output_type": "execute_result"
    }
   ],
   "source": [
    "df_twitter['rating_numerator'][603]"
   ]
  },
  {
   "cell_type": "code",
   "execution_count": 74,
   "metadata": {},
   "outputs": [
    {
     "data": {
      "text/plain": [
       "11"
      ]
     },
     "execution_count": 74,
     "metadata": {},
     "output_type": "execute_result"
    }
   ],
   "source": [
    "df_twitter['rating_numerator'][1440]"
   ]
  },
  {
   "cell_type": "code",
   "execution_count": 75,
   "metadata": {},
   "outputs": [
    {
     "data": {
      "text/plain": [
       "0"
      ]
     },
     "execution_count": 75,
     "metadata": {},
     "output_type": "execute_result"
    }
   ],
   "source": [
    "df_twitter[df_twitter['rating_numerator'] > 20].shape[0]"
   ]
  },
  {
   "cell_type": "markdown",
   "metadata": {},
   "source": [
    "**Define**"
   ]
  },
  {
   "cell_type": "markdown",
   "metadata": {},
   "source": [
    "Drop all the rows where df_twitter['p1_dog'] = False & df_twitter['rating_numerator' < df_twitter['rating_denominator']]"
   ]
  },
  {
   "cell_type": "markdown",
   "metadata": {},
   "source": [
    "**Code**"
   ]
  },
  {
   "cell_type": "code",
   "execution_count": 76,
   "metadata": {},
   "outputs": [
    {
     "data": {
      "text/plain": [
       "193"
      ]
     },
     "execution_count": 76,
     "metadata": {},
     "output_type": "execute_result"
    }
   ],
   "source": [
    "df_twitter[(df_twitter['p1_dog'] == False) & (df_twitter['rating_numerator'] < df_twitter['rating_denominator'])].shape[0]"
   ]
  },
  {
   "cell_type": "code",
   "execution_count": 77,
   "metadata": {},
   "outputs": [],
   "source": [
    "index_list = list(df_twitter[(df_twitter['p1_dog'] == False) & (df_twitter['rating_numerator'] < df_twitter['rating_denominator'])].index)"
   ]
  },
  {
   "cell_type": "code",
   "execution_count": 78,
   "metadata": {},
   "outputs": [],
   "source": [
    "df_twitter.drop(index = index_list, inplace = True)"
   ]
  },
  {
   "cell_type": "markdown",
   "metadata": {},
   "source": [
    "**Test**"
   ]
  },
  {
   "cell_type": "code",
   "execution_count": 79,
   "metadata": {},
   "outputs": [
    {
     "data": {
      "text/plain": [
       "0"
      ]
     },
     "execution_count": 79,
     "metadata": {},
     "output_type": "execute_result"
    }
   ],
   "source": [
    "df_twitter[(df_twitter['p1_dog'] == False) & (df_twitter['rating_numerator'] < df_twitter['rating_denominator'])].shape[0]"
   ]
  },
  {
   "cell_type": "code",
   "execution_count": 80,
   "metadata": {},
   "outputs": [
    {
     "data": {
      "text/plain": [
       "golden_retriever      149\n",
       "Labrador_retriever     98\n",
       "Pembroke               88\n",
       "Chihuahua              81\n",
       "pug                    57\n",
       "Name: p1, dtype: int64"
      ]
     },
     "execution_count": 80,
     "metadata": {},
     "output_type": "execute_result"
    }
   ],
   "source": [
    "df_twitter['p1'].value_counts()[:5]"
   ]
  },
  {
   "cell_type": "markdown",
   "metadata": {},
   "source": [
    "**Define**"
   ]
  },
  {
   "cell_type": "markdown",
   "metadata": {},
   "source": [
    "Correct manually these three rate values taken from the text where the rating_denominator != 10"
   ]
  },
  {
   "cell_type": "markdown",
   "metadata": {},
   "source": [
    "**Code**"
   ]
  },
  {
   "cell_type": "code",
   "execution_count": 81,
   "metadata": {},
   "outputs": [
    {
     "data": {
      "text/html": [
       "<div>\n",
       "<style scoped>\n",
       "    .dataframe tbody tr th:only-of-type {\n",
       "        vertical-align: middle;\n",
       "    }\n",
       "\n",
       "    .dataframe tbody tr th {\n",
       "        vertical-align: top;\n",
       "    }\n",
       "\n",
       "    .dataframe thead th {\n",
       "        text-align: right;\n",
       "    }\n",
       "</style>\n",
       "<table border=\"1\" class=\"dataframe\">\n",
       "  <thead>\n",
       "    <tr style=\"text-align: right;\">\n",
       "      <th></th>\n",
       "      <th>tweet_id</th>\n",
       "      <th>timestamp</th>\n",
       "      <th>text</th>\n",
       "      <th>rating_numerator</th>\n",
       "      <th>rating_denominator</th>\n",
       "      <th>name</th>\n",
       "      <th>doggo</th>\n",
       "      <th>floofer</th>\n",
       "      <th>pupper</th>\n",
       "      <th>puppo</th>\n",
       "      <th>...</th>\n",
       "      <th>p1_conf</th>\n",
       "      <th>p1_dog</th>\n",
       "      <th>p2</th>\n",
       "      <th>p2_conf</th>\n",
       "      <th>p2_dog</th>\n",
       "      <th>p3</th>\n",
       "      <th>p3_conf</th>\n",
       "      <th>p3_dog</th>\n",
       "      <th>favorites_count</th>\n",
       "      <th>retweets_count</th>\n",
       "    </tr>\n",
       "  </thead>\n",
       "  <tbody>\n",
       "    <tr>\n",
       "      <th>865</th>\n",
       "      <td>740373189193256964</td>\n",
       "      <td>2016-06-08 02:41:38+00:00</td>\n",
       "      <td>After so many requests, this is Bretagne. She ...</td>\n",
       "      <td>9</td>\n",
       "      <td>11</td>\n",
       "      <td>None</td>\n",
       "      <td>None</td>\n",
       "      <td>None</td>\n",
       "      <td>None</td>\n",
       "      <td>None</td>\n",
       "      <td>...</td>\n",
       "      <td>0.807644</td>\n",
       "      <td>True</td>\n",
       "      <td>kuvasz</td>\n",
       "      <td>0.101286</td>\n",
       "      <td>True</td>\n",
       "      <td>Labrador_retriever</td>\n",
       "      <td>0.023785</td>\n",
       "      <td>True</td>\n",
       "      <td>35697</td>\n",
       "      <td>13653</td>\n",
       "    </tr>\n",
       "    <tr>\n",
       "      <th>956</th>\n",
       "      <td>722974582966214656</td>\n",
       "      <td>2016-04-21 02:25:47+00:00</td>\n",
       "      <td>Happy 4/20 from the squad! 13/10 for all https...</td>\n",
       "      <td>4</td>\n",
       "      <td>20</td>\n",
       "      <td>None</td>\n",
       "      <td>None</td>\n",
       "      <td>None</td>\n",
       "      <td>None</td>\n",
       "      <td>None</td>\n",
       "      <td>...</td>\n",
       "      <td>0.246762</td>\n",
       "      <td>True</td>\n",
       "      <td>Greater_Swiss_Mountain_dog</td>\n",
       "      <td>0.126131</td>\n",
       "      <td>True</td>\n",
       "      <td>Weimaraner</td>\n",
       "      <td>0.085297</td>\n",
       "      <td>True</td>\n",
       "      <td>4187</td>\n",
       "      <td>1591</td>\n",
       "    </tr>\n",
       "    <tr>\n",
       "      <th>2040</th>\n",
       "      <td>666287406224695296</td>\n",
       "      <td>2015-11-16 16:11:11+00:00</td>\n",
       "      <td>This is an Albanian 3 1/2 legged  Episcopalian...</td>\n",
       "      <td>1</td>\n",
       "      <td>2</td>\n",
       "      <td>an</td>\n",
       "      <td>None</td>\n",
       "      <td>None</td>\n",
       "      <td>None</td>\n",
       "      <td>None</td>\n",
       "      <td>...</td>\n",
       "      <td>0.857531</td>\n",
       "      <td>True</td>\n",
       "      <td>toy_poodle</td>\n",
       "      <td>0.063064</td>\n",
       "      <td>True</td>\n",
       "      <td>miniature_poodle</td>\n",
       "      <td>0.025581</td>\n",
       "      <td>True</td>\n",
       "      <td>141</td>\n",
       "      <td>63</td>\n",
       "    </tr>\n",
       "  </tbody>\n",
       "</table>\n",
       "<p>3 rows × 23 columns</p>\n",
       "</div>"
      ],
      "text/plain": [
       "                tweet_id                 timestamp  \\\n",
       "865   740373189193256964 2016-06-08 02:41:38+00:00   \n",
       "956   722974582966214656 2016-04-21 02:25:47+00:00   \n",
       "2040  666287406224695296 2015-11-16 16:11:11+00:00   \n",
       "\n",
       "                                                   text  rating_numerator  \\\n",
       "865   After so many requests, this is Bretagne. She ...                 9   \n",
       "956   Happy 4/20 from the squad! 13/10 for all https...                 4   \n",
       "2040  This is an Albanian 3 1/2 legged  Episcopalian...                 1   \n",
       "\n",
       "      rating_denominator  name doggo floofer pupper puppo  ...   p1_conf  \\\n",
       "865                   11  None  None    None   None  None  ...  0.807644   \n",
       "956                   20  None  None    None   None  None  ...  0.246762   \n",
       "2040                   2    an  None    None   None  None  ...  0.857531   \n",
       "\n",
       "      p1_dog                          p2   p2_conf  p2_dog  \\\n",
       "865     True                      kuvasz  0.101286    True   \n",
       "956     True  Greater_Swiss_Mountain_dog  0.126131    True   \n",
       "2040    True                  toy_poodle  0.063064    True   \n",
       "\n",
       "                      p3   p3_conf  p3_dog favorites_count  retweets_count  \n",
       "865   Labrador_retriever  0.023785    True           35697           13653  \n",
       "956           Weimaraner  0.085297    True            4187            1591  \n",
       "2040    miniature_poodle  0.025581    True             141              63  \n",
       "\n",
       "[3 rows x 23 columns]"
      ]
     },
     "execution_count": 81,
     "metadata": {},
     "output_type": "execute_result"
    }
   ],
   "source": [
    "df_twitter[df_twitter['rating_denominator'] != 10]"
   ]
  },
  {
   "cell_type": "code",
   "execution_count": 82,
   "metadata": {},
   "outputs": [
    {
     "data": {
      "text/plain": [
       "'After so many requests, this is Bretagne. She was the last surviving 9/11 search dog, and our second ever 14/10. RIP https://t.co/XAVDNDaVgQ'"
      ]
     },
     "execution_count": 82,
     "metadata": {},
     "output_type": "execute_result"
    }
   ],
   "source": [
    "df_twitter['text'][865]"
   ]
  },
  {
   "cell_type": "code",
   "execution_count": 83,
   "metadata": {},
   "outputs": [
    {
     "data": {
      "text/plain": [
       "9"
      ]
     },
     "execution_count": 83,
     "metadata": {},
     "output_type": "execute_result"
    }
   ],
   "source": [
    "df_twitter['rating_numerator'][865]"
   ]
  },
  {
   "cell_type": "code",
   "execution_count": 84,
   "metadata": {},
   "outputs": [
    {
     "data": {
      "text/plain": [
       "11"
      ]
     },
     "execution_count": 84,
     "metadata": {},
     "output_type": "execute_result"
    }
   ],
   "source": [
    "df_twitter['rating_denominator'][865]"
   ]
  },
  {
   "cell_type": "code",
   "execution_count": 85,
   "metadata": {},
   "outputs": [
    {
     "name": "stderr",
     "output_type": "stream",
     "text": [
      "/home/daniel/.pyenv/versions/3.6.0/envs/wrangling_data_3.6.0/lib/python3.6/site-packages/ipykernel_launcher.py:1: SettingWithCopyWarning: \n",
      "A value is trying to be set on a copy of a slice from a DataFrame\n",
      "\n",
      "See the caveats in the documentation: http://pandas.pydata.org/pandas-docs/stable/user_guide/indexing.html#returning-a-view-versus-a-copy\n",
      "  \"\"\"Entry point for launching an IPython kernel.\n",
      "/home/daniel/.pyenv/versions/3.6.0/envs/wrangling_data_3.6.0/lib/python3.6/site-packages/ipykernel_launcher.py:2: SettingWithCopyWarning: \n",
      "A value is trying to be set on a copy of a slice from a DataFrame\n",
      "\n",
      "See the caveats in the documentation: http://pandas.pydata.org/pandas-docs/stable/user_guide/indexing.html#returning-a-view-versus-a-copy\n",
      "  \n"
     ]
    }
   ],
   "source": [
    "df_twitter['rating_numerator'][865] = 14\n",
    "df_twitter['rating_denominator'][865] = 10"
   ]
  },
  {
   "cell_type": "code",
   "execution_count": 86,
   "metadata": {},
   "outputs": [
    {
     "data": {
      "text/plain": [
       "'Happy 4/20 from the squad! 13/10 for all https://t.co/eV1diwds8a'"
      ]
     },
     "execution_count": 86,
     "metadata": {},
     "output_type": "execute_result"
    }
   ],
   "source": [
    "df_twitter['text'][956]"
   ]
  },
  {
   "cell_type": "code",
   "execution_count": 87,
   "metadata": {},
   "outputs": [
    {
     "data": {
      "text/plain": [
       "9"
      ]
     },
     "execution_count": 87,
     "metadata": {},
     "output_type": "execute_result"
    }
   ],
   "source": [
    "df_twitter['rating_numerator'][965]"
   ]
  },
  {
   "cell_type": "code",
   "execution_count": 88,
   "metadata": {},
   "outputs": [
    {
     "data": {
      "text/plain": [
       "20"
      ]
     },
     "execution_count": 88,
     "metadata": {},
     "output_type": "execute_result"
    }
   ],
   "source": [
    "df_twitter['rating_denominator'][956]"
   ]
  },
  {
   "cell_type": "code",
   "execution_count": 89,
   "metadata": {},
   "outputs": [
    {
     "name": "stderr",
     "output_type": "stream",
     "text": [
      "/home/daniel/.pyenv/versions/3.6.0/envs/wrangling_data_3.6.0/lib/python3.6/site-packages/ipykernel_launcher.py:1: SettingWithCopyWarning: \n",
      "A value is trying to be set on a copy of a slice from a DataFrame\n",
      "\n",
      "See the caveats in the documentation: http://pandas.pydata.org/pandas-docs/stable/user_guide/indexing.html#returning-a-view-versus-a-copy\n",
      "  \"\"\"Entry point for launching an IPython kernel.\n",
      "/home/daniel/.pyenv/versions/3.6.0/envs/wrangling_data_3.6.0/lib/python3.6/site-packages/ipykernel_launcher.py:2: SettingWithCopyWarning: \n",
      "A value is trying to be set on a copy of a slice from a DataFrame\n",
      "\n",
      "See the caveats in the documentation: http://pandas.pydata.org/pandas-docs/stable/user_guide/indexing.html#returning-a-view-versus-a-copy\n",
      "  \n"
     ]
    }
   ],
   "source": [
    "df_twitter['rating_numerator'][956] = 13\n",
    "df_twitter['rating_denominator'][956] = 10"
   ]
  },
  {
   "cell_type": "code",
   "execution_count": 90,
   "metadata": {},
   "outputs": [
    {
     "data": {
      "text/plain": [
       "'This is an Albanian 3 1/2 legged  Episcopalian. Loves well-polished hardwood flooring. Penis on the collar. 9/10 https://t.co/d9NcXFKwLv'"
      ]
     },
     "execution_count": 90,
     "metadata": {},
     "output_type": "execute_result"
    }
   ],
   "source": [
    "df_twitter['text'][2040]"
   ]
  },
  {
   "cell_type": "code",
   "execution_count": 91,
   "metadata": {},
   "outputs": [
    {
     "data": {
      "text/plain": [
       "1"
      ]
     },
     "execution_count": 91,
     "metadata": {},
     "output_type": "execute_result"
    }
   ],
   "source": [
    "df_twitter['rating_numerator'][2040]"
   ]
  },
  {
   "cell_type": "code",
   "execution_count": 92,
   "metadata": {},
   "outputs": [
    {
     "data": {
      "text/plain": [
       "2"
      ]
     },
     "execution_count": 92,
     "metadata": {},
     "output_type": "execute_result"
    }
   ],
   "source": [
    "df_twitter['rating_denominator'][2040]"
   ]
  },
  {
   "cell_type": "code",
   "execution_count": 93,
   "metadata": {},
   "outputs": [
    {
     "name": "stderr",
     "output_type": "stream",
     "text": [
      "/home/daniel/.pyenv/versions/3.6.0/envs/wrangling_data_3.6.0/lib/python3.6/site-packages/ipykernel_launcher.py:1: SettingWithCopyWarning: \n",
      "A value is trying to be set on a copy of a slice from a DataFrame\n",
      "\n",
      "See the caveats in the documentation: http://pandas.pydata.org/pandas-docs/stable/user_guide/indexing.html#returning-a-view-versus-a-copy\n",
      "  \"\"\"Entry point for launching an IPython kernel.\n",
      "/home/daniel/.pyenv/versions/3.6.0/envs/wrangling_data_3.6.0/lib/python3.6/site-packages/ipykernel_launcher.py:2: SettingWithCopyWarning: \n",
      "A value is trying to be set on a copy of a slice from a DataFrame\n",
      "\n",
      "See the caveats in the documentation: http://pandas.pydata.org/pandas-docs/stable/user_guide/indexing.html#returning-a-view-versus-a-copy\n",
      "  \n"
     ]
    }
   ],
   "source": [
    "df_twitter['rating_numerator'][2040] = 9\n",
    "df_twitter['rating_denominator'][2040] = 10"
   ]
  },
  {
   "cell_type": "markdown",
   "metadata": {},
   "source": [
    "**Test**"
   ]
  },
  {
   "cell_type": "code",
   "execution_count": 94,
   "metadata": {},
   "outputs": [
    {
     "data": {
      "text/plain": [
       "14"
      ]
     },
     "execution_count": 94,
     "metadata": {},
     "output_type": "execute_result"
    }
   ],
   "source": [
    "df_twitter['rating_numerator'][865]"
   ]
  },
  {
   "cell_type": "code",
   "execution_count": 95,
   "metadata": {},
   "outputs": [
    {
     "data": {
      "text/plain": [
       "10"
      ]
     },
     "execution_count": 95,
     "metadata": {},
     "output_type": "execute_result"
    }
   ],
   "source": [
    "df_twitter['rating_denominator'][865]"
   ]
  },
  {
   "cell_type": "code",
   "execution_count": 96,
   "metadata": {},
   "outputs": [
    {
     "data": {
      "text/plain": [
       "10"
      ]
     },
     "execution_count": 96,
     "metadata": {},
     "output_type": "execute_result"
    }
   ],
   "source": [
    "df_twitter['rating_denominator'][956]"
   ]
  },
  {
   "cell_type": "code",
   "execution_count": 97,
   "metadata": {},
   "outputs": [
    {
     "data": {
      "text/plain": [
       "13"
      ]
     },
     "execution_count": 97,
     "metadata": {},
     "output_type": "execute_result"
    }
   ],
   "source": [
    "df_twitter['rating_numerator'][956]"
   ]
  },
  {
   "cell_type": "code",
   "execution_count": 98,
   "metadata": {},
   "outputs": [
    {
     "data": {
      "text/plain": [
       "10"
      ]
     },
     "execution_count": 98,
     "metadata": {},
     "output_type": "execute_result"
    }
   ],
   "source": [
    "df_twitter['rating_denominator'][2040]"
   ]
  },
  {
   "cell_type": "code",
   "execution_count": 99,
   "metadata": {},
   "outputs": [
    {
     "data": {
      "text/plain": [
       "9"
      ]
     },
     "execution_count": 99,
     "metadata": {},
     "output_type": "execute_result"
    }
   ],
   "source": [
    "df_twitter['rating_numerator'][2040]"
   ]
  },
  {
   "cell_type": "code",
   "execution_count": 100,
   "metadata": {},
   "outputs": [
    {
     "data": {
      "text/plain": [
       "True"
      ]
     },
     "execution_count": 100,
     "metadata": {},
     "output_type": "execute_result"
    }
   ],
   "source": [
    "df_twitter[df_twitter['rating_denominator'] != 10].shape[0] == 0"
   ]
  },
  {
   "cell_type": "code",
   "execution_count": 101,
   "metadata": {},
   "outputs": [
    {
     "name": "stdout",
     "output_type": "stream",
     "text": [
      "<class 'pandas.core.frame.DataFrame'>\n",
      "Int64Index: 1865 entries, 0 to 2060\n",
      "Data columns (total 23 columns):\n",
      "tweet_id              1865 non-null object\n",
      "timestamp             1865 non-null datetime64[ns, UTC]\n",
      "text                  1865 non-null object\n",
      "rating_numerator      1865 non-null int64\n",
      "rating_denominator    1865 non-null int64\n",
      "name                  1865 non-null object\n",
      "doggo                 1865 non-null object\n",
      "floofer               1865 non-null object\n",
      "pupper                1865 non-null object\n",
      "puppo                 1865 non-null object\n",
      "jpg_url               1865 non-null object\n",
      "img_num               1865 non-null int64\n",
      "p1                    1865 non-null object\n",
      "p1_conf               1865 non-null float64\n",
      "p1_dog                1865 non-null bool\n",
      "p2                    1865 non-null object\n",
      "p2_conf               1865 non-null float64\n",
      "p2_dog                1865 non-null bool\n",
      "p3                    1865 non-null object\n",
      "p3_conf               1865 non-null float64\n",
      "p3_dog                1865 non-null bool\n",
      "favorites_count       1865 non-null int64\n",
      "retweets_count        1865 non-null int64\n",
      "dtypes: bool(3), datetime64[ns, UTC](1), float64(3), int64(5), object(11)\n",
      "memory usage: 391.4+ KB\n"
     ]
    }
   ],
   "source": [
    "df_twitter.info()"
   ]
  },
  {
   "cell_type": "markdown",
   "metadata": {},
   "source": [
    "**Define**"
   ]
  },
  {
   "cell_type": "markdown",
   "metadata": {},
   "source": [
    "Create a new table named dog_rate:\n",
    "-  df_twitter['dog_rate'] = df_twitter['rating_numerator'] / df_twitter['rating_denominator'] "
   ]
  },
  {
   "cell_type": "markdown",
   "metadata": {},
   "source": [
    "**Code**"
   ]
  },
  {
   "cell_type": "code",
   "execution_count": 102,
   "metadata": {},
   "outputs": [],
   "source": [
    "df_twitter['dog_rate'] = df_twitter['rating_numerator'] / df_twitter['rating_denominator'] "
   ]
  },
  {
   "cell_type": "markdown",
   "metadata": {},
   "source": [
    "**Test**"
   ]
  },
  {
   "cell_type": "code",
   "execution_count": 103,
   "metadata": {},
   "outputs": [
    {
     "name": "stdout",
     "output_type": "stream",
     "text": [
      "<class 'pandas.core.frame.DataFrame'>\n",
      "Int64Index: 1865 entries, 0 to 2060\n",
      "Data columns (total 24 columns):\n",
      "tweet_id              1865 non-null object\n",
      "timestamp             1865 non-null datetime64[ns, UTC]\n",
      "text                  1865 non-null object\n",
      "rating_numerator      1865 non-null int64\n",
      "rating_denominator    1865 non-null int64\n",
      "name                  1865 non-null object\n",
      "doggo                 1865 non-null object\n",
      "floofer               1865 non-null object\n",
      "pupper                1865 non-null object\n",
      "puppo                 1865 non-null object\n",
      "jpg_url               1865 non-null object\n",
      "img_num               1865 non-null int64\n",
      "p1                    1865 non-null object\n",
      "p1_conf               1865 non-null float64\n",
      "p1_dog                1865 non-null bool\n",
      "p2                    1865 non-null object\n",
      "p2_conf               1865 non-null float64\n",
      "p2_dog                1865 non-null bool\n",
      "p3                    1865 non-null object\n",
      "p3_conf               1865 non-null float64\n",
      "p3_dog                1865 non-null bool\n",
      "favorites_count       1865 non-null int64\n",
      "retweets_count        1865 non-null int64\n",
      "dog_rate              1865 non-null float64\n",
      "dtypes: bool(3), datetime64[ns, UTC](1), float64(4), int64(5), object(11)\n",
      "memory usage: 406.0+ KB\n"
     ]
    }
   ],
   "source": [
    "df_twitter.info()"
   ]
  },
  {
   "cell_type": "markdown",
   "metadata": {},
   "source": [
    "**Define**"
   ]
  },
  {
   "cell_type": "markdown",
   "metadata": {},
   "source": [
    "Drop  `p1_conf`, `p1_dog`, `p2`, `p2_conf`, `p2_dog`, `p3`, `p3_conf`, `p3_dog` columns using df_twitter.drop( col_list, axis =1, inplace = True) and rename the column `p1` to `dog_breed` "
   ]
  },
  {
   "cell_type": "markdown",
   "metadata": {},
   "source": [
    "**Code**"
   ]
  },
  {
   "cell_type": "code",
   "execution_count": 104,
   "metadata": {},
   "outputs": [],
   "source": [
    "col_list = ['p1_conf', 'p1_dog', 'p2', 'p2_conf','p2_dog', 'p3', 'p3_conf', 'p3_dog']"
   ]
  },
  {
   "cell_type": "code",
   "execution_count": 105,
   "metadata": {},
   "outputs": [],
   "source": [
    "df_twitter.drop(columns = col_list, axis =1, inplace = True)"
   ]
  },
  {
   "cell_type": "code",
   "execution_count": 106,
   "metadata": {},
   "outputs": [],
   "source": [
    "df_twitter.rename(columns = {'p1': 'dog_breed'}, inplace = True)"
   ]
  },
  {
   "cell_type": "markdown",
   "metadata": {},
   "source": [
    "**Test**"
   ]
  },
  {
   "cell_type": "code",
   "execution_count": 107,
   "metadata": {},
   "outputs": [
    {
     "data": {
      "text/plain": [
       "16"
      ]
     },
     "execution_count": 107,
     "metadata": {},
     "output_type": "execute_result"
    }
   ],
   "source": [
    "df_twitter.shape[1]"
   ]
  },
  {
   "cell_type": "code",
   "execution_count": 108,
   "metadata": {},
   "outputs": [
    {
     "name": "stdout",
     "output_type": "stream",
     "text": [
      "<class 'pandas.core.frame.DataFrame'>\n",
      "Int64Index: 1865 entries, 0 to 2060\n",
      "Data columns (total 16 columns):\n",
      "tweet_id              1865 non-null object\n",
      "timestamp             1865 non-null datetime64[ns, UTC]\n",
      "text                  1865 non-null object\n",
      "rating_numerator      1865 non-null int64\n",
      "rating_denominator    1865 non-null int64\n",
      "name                  1865 non-null object\n",
      "doggo                 1865 non-null object\n",
      "floofer               1865 non-null object\n",
      "pupper                1865 non-null object\n",
      "puppo                 1865 non-null object\n",
      "jpg_url               1865 non-null object\n",
      "img_num               1865 non-null int64\n",
      "dog_breed             1865 non-null object\n",
      "favorites_count       1865 non-null int64\n",
      "retweets_count        1865 non-null int64\n",
      "dog_rate              1865 non-null float64\n",
      "dtypes: datetime64[ns, UTC](1), float64(1), int64(5), object(9)\n",
      "memory usage: 247.7+ KB\n"
     ]
    }
   ],
   "source": [
    "df_twitter.info()"
   ]
  },
  {
   "cell_type": "markdown",
   "metadata": {},
   "source": [
    "### Tidiness ###"
   ]
  },
  {
   "cell_type": "markdown",
   "metadata": {},
   "source": [
    "**Define**"
   ]
  },
  {
   "cell_type": "markdown",
   "metadata": {},
   "source": [
    "Define a new columns named `dog_stages` getting the values from df_twitter['text'] to take each one of these values ('doggo', 'flopper', 'pupper', 'puppo')"
   ]
  },
  {
   "cell_type": "markdown",
   "metadata": {},
   "source": [
    "#### Code ####"
   ]
  },
  {
   "cell_type": "code",
   "execution_count": 109,
   "metadata": {},
   "outputs": [],
   "source": [
    "df_twitter['dog_stages'] = df_twitter['text'].str.extract('(doggo|floofer||pupper|puppo)', expand = True)"
   ]
  },
  {
   "cell_type": "code",
   "execution_count": 110,
   "metadata": {},
   "outputs": [],
   "source": [
    "df_twitter.drop(['doggo','floofer','pupper','puppo'], axis=1, inplace = True)"
   ]
  },
  {
   "cell_type": "markdown",
   "metadata": {},
   "source": [
    "**Test**"
   ]
  },
  {
   "cell_type": "code",
   "execution_count": 111,
   "metadata": {},
   "outputs": [
    {
     "data": {
      "text/html": [
       "<div>\n",
       "<style scoped>\n",
       "    .dataframe tbody tr th:only-of-type {\n",
       "        vertical-align: middle;\n",
       "    }\n",
       "\n",
       "    .dataframe tbody tr th {\n",
       "        vertical-align: top;\n",
       "    }\n",
       "\n",
       "    .dataframe thead th {\n",
       "        text-align: right;\n",
       "    }\n",
       "</style>\n",
       "<table border=\"1\" class=\"dataframe\">\n",
       "  <thead>\n",
       "    <tr style=\"text-align: right;\">\n",
       "      <th></th>\n",
       "      <th>tweet_id</th>\n",
       "      <th>timestamp</th>\n",
       "      <th>text</th>\n",
       "      <th>rating_numerator</th>\n",
       "      <th>rating_denominator</th>\n",
       "      <th>name</th>\n",
       "      <th>jpg_url</th>\n",
       "      <th>img_num</th>\n",
       "      <th>dog_breed</th>\n",
       "      <th>favorites_count</th>\n",
       "      <th>retweets_count</th>\n",
       "      <th>dog_rate</th>\n",
       "      <th>dog_stages</th>\n",
       "    </tr>\n",
       "  </thead>\n",
       "  <tbody>\n",
       "    <tr>\n",
       "      <th>0</th>\n",
       "      <td>892420643555336193</td>\n",
       "      <td>2017-08-01 16:23:56+00:00</td>\n",
       "      <td>This is Phineas. He's a mystical boy. Only eve...</td>\n",
       "      <td>13</td>\n",
       "      <td>10</td>\n",
       "      <td>Phineas</td>\n",
       "      <td>https://pbs.twimg.com/media/DGKD1-bXoAAIAUK.jpg</td>\n",
       "      <td>1</td>\n",
       "      <td>orange</td>\n",
       "      <td>37149</td>\n",
       "      <td>7947</td>\n",
       "      <td>1.3</td>\n",
       "      <td></td>\n",
       "    </tr>\n",
       "    <tr>\n",
       "      <th>1</th>\n",
       "      <td>892177421306343426</td>\n",
       "      <td>2017-08-01 00:17:27+00:00</td>\n",
       "      <td>This is Tilly. She's just checking pup on you....</td>\n",
       "      <td>13</td>\n",
       "      <td>10</td>\n",
       "      <td>Tilly</td>\n",
       "      <td>https://pbs.twimg.com/media/DGGmoV4XsAAUL6n.jpg</td>\n",
       "      <td>1</td>\n",
       "      <td>Chihuahua</td>\n",
       "      <td>31957</td>\n",
       "      <td>5902</td>\n",
       "      <td>1.3</td>\n",
       "      <td></td>\n",
       "    </tr>\n",
       "  </tbody>\n",
       "</table>\n",
       "</div>"
      ],
      "text/plain": [
       "             tweet_id                 timestamp  \\\n",
       "0  892420643555336193 2017-08-01 16:23:56+00:00   \n",
       "1  892177421306343426 2017-08-01 00:17:27+00:00   \n",
       "\n",
       "                                                text  rating_numerator  \\\n",
       "0  This is Phineas. He's a mystical boy. Only eve...                13   \n",
       "1  This is Tilly. She's just checking pup on you....                13   \n",
       "\n",
       "   rating_denominator     name  \\\n",
       "0                  10  Phineas   \n",
       "1                  10    Tilly   \n",
       "\n",
       "                                           jpg_url  img_num  dog_breed  \\\n",
       "0  https://pbs.twimg.com/media/DGKD1-bXoAAIAUK.jpg        1     orange   \n",
       "1  https://pbs.twimg.com/media/DGGmoV4XsAAUL6n.jpg        1  Chihuahua   \n",
       "\n",
       "   favorites_count  retweets_count  dog_rate dog_stages  \n",
       "0            37149            7947       1.3             \n",
       "1            31957            5902       1.3             "
      ]
     },
     "execution_count": 111,
     "metadata": {},
     "output_type": "execute_result"
    }
   ],
   "source": [
    "df_twitter.head(2)"
   ]
  },
  {
   "cell_type": "code",
   "execution_count": 112,
   "metadata": {},
   "outputs": [
    {
     "name": "stdout",
     "output_type": "stream",
     "text": [
      "<class 'pandas.core.frame.DataFrame'>\n",
      "Int64Index: 1865 entries, 0 to 2060\n",
      "Data columns (total 13 columns):\n",
      "tweet_id              1865 non-null object\n",
      "timestamp             1865 non-null datetime64[ns, UTC]\n",
      "text                  1865 non-null object\n",
      "rating_numerator      1865 non-null int64\n",
      "rating_denominator    1865 non-null int64\n",
      "name                  1865 non-null object\n",
      "jpg_url               1865 non-null object\n",
      "img_num               1865 non-null int64\n",
      "dog_breed             1865 non-null object\n",
      "favorites_count       1865 non-null int64\n",
      "retweets_count        1865 non-null int64\n",
      "dog_rate              1865 non-null float64\n",
      "dog_stages            1865 non-null object\n",
      "dtypes: datetime64[ns, UTC](1), float64(1), int64(5), object(6)\n",
      "memory usage: 204.0+ KB\n"
     ]
    }
   ],
   "source": [
    "df_twitter.info()"
   ]
  },
  {
   "cell_type": "markdown",
   "metadata": {},
   "source": [
    "**Define**"
   ]
  },
  {
   "cell_type": "markdown",
   "metadata": {},
   "source": [
    "Separate date `timestamp` column values into three new columns `year`, `month`, `day`. Then drop `timestamp` column."
   ]
  },
  {
   "cell_type": "markdown",
   "metadata": {},
   "source": [
    "**Code**"
   ]
  },
  {
   "cell_type": "code",
   "execution_count": 113,
   "metadata": {},
   "outputs": [],
   "source": [
    "df_twitter['year'] = df_twitter['timestamp'].dt.year\n",
    "df_twitter['month'] = df_twitter['timestamp'].dt.month\n",
    "df_twitter['day'] = df_twitter['timestamp'].dt.day"
   ]
  },
  {
   "cell_type": "code",
   "execution_count": 114,
   "metadata": {},
   "outputs": [],
   "source": [
    "df_twitter.drop('timestamp', axis = 1, inplace = True)"
   ]
  },
  {
   "cell_type": "markdown",
   "metadata": {},
   "source": [
    "**Test**"
   ]
  },
  {
   "cell_type": "code",
   "execution_count": 115,
   "metadata": {},
   "outputs": [
    {
     "data": {
      "text/plain": [
       "15"
      ]
     },
     "execution_count": 115,
     "metadata": {},
     "output_type": "execute_result"
    }
   ],
   "source": [
    "#Should have 15 columns\n",
    "df_twitter.shape[1]"
   ]
  },
  {
   "cell_type": "code",
   "execution_count": 116,
   "metadata": {},
   "outputs": [
    {
     "name": "stdout",
     "output_type": "stream",
     "text": [
      "<class 'pandas.core.frame.DataFrame'>\n",
      "Int64Index: 1865 entries, 0 to 2060\n",
      "Data columns (total 15 columns):\n",
      "tweet_id              1865 non-null object\n",
      "text                  1865 non-null object\n",
      "rating_numerator      1865 non-null int64\n",
      "rating_denominator    1865 non-null int64\n",
      "name                  1865 non-null object\n",
      "jpg_url               1865 non-null object\n",
      "img_num               1865 non-null int64\n",
      "dog_breed             1865 non-null object\n",
      "favorites_count       1865 non-null int64\n",
      "retweets_count        1865 non-null int64\n",
      "dog_rate              1865 non-null float64\n",
      "dog_stages            1865 non-null object\n",
      "year                  1865 non-null int64\n",
      "month                 1865 non-null int64\n",
      "day                   1865 non-null int64\n",
      "dtypes: float64(1), int64(8), object(6)\n",
      "memory usage: 233.1+ KB\n"
     ]
    }
   ],
   "source": [
    "\n",
    "df_twitter.info()"
   ]
  },
  {
   "cell_type": "markdown",
   "metadata": {},
   "source": [
    "### Save to .csv file ###\n",
    "From this point the data can be analyzes by others data analysts"
   ]
  },
  {
   "cell_type": "code",
   "execution_count": 117,
   "metadata": {},
   "outputs": [],
   "source": [
    "df_twitter.to_csv('twitter_archive/we_rate_dogs.csv', index = False)"
   ]
  },
  {
   "cell_type": "markdown",
   "metadata": {},
   "source": [
    "### Data Insights ###"
   ]
  },
  {
   "cell_type": "markdown",
   "metadata": {},
   "source": [
    "In this part we're gonna analyze three different variables from twitter dataset "
   ]
  },
  {
   "cell_type": "markdown",
   "metadata": {},
   "source": [
    "### 1. Which are the five most common dog breeds? ###"
   ]
  },
  {
   "cell_type": "code",
   "execution_count": null,
   "metadata": {},
   "outputs": [],
   "source": []
  },
  {
   "cell_type": "code",
   "execution_count": null,
   "metadata": {},
   "outputs": [],
   "source": []
  },
  {
   "cell_type": "code",
   "execution_count": null,
   "metadata": {},
   "outputs": [],
   "source": []
  },
  {
   "cell_type": "code",
   "execution_count": null,
   "metadata": {},
   "outputs": [],
   "source": []
  }
 ],
 "metadata": {
  "kernelspec": {
   "display_name": "Python 3",
   "language": "python",
   "name": "python3"
  },
  "language_info": {
   "codemirror_mode": {
    "name": "ipython",
    "version": 3
   },
   "file_extension": ".py",
   "mimetype": "text/x-python",
   "name": "python",
   "nbconvert_exporter": "python",
   "pygments_lexer": "ipython3",
   "version": "3.6.0"
  }
 },
 "nbformat": 4,
 "nbformat_minor": 2
}
